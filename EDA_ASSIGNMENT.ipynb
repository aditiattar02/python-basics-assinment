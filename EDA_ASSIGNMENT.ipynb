{
  "nbformat": 4,
  "nbformat_minor": 0,
  "metadata": {
    "colab": {
      "provenance": []
    },
    "kernelspec": {
      "name": "python3",
      "display_name": "Python 3"
    },
    "language_info": {
      "name": "python"
    }
  },
  "cells": [
    {
      "cell_type": "code",
      "execution_count": 4,
      "metadata": {
        "colab": {
          "base_uri": "https://localhost:8080/"
        },
        "id": "9A4wE_opma4s",
        "outputId": "ceb1b1f8-7ac8-460c-a823-9b2cdb8e116b"
      },
      "outputs": [
        {
          "output_type": "stream",
          "name": "stdout",
          "text": [
            "Min Price: ₹5000\n",
            "Max Price: ₹760000\n",
            "Range: ₹755000\n"
          ]
        }
      ],
      "source": [
        "#EDA ASSIGNMENT\n",
        "#EDA 1\n",
        "#Q1.What is the range of selling prices in the dataset?\n",
        "'''\n",
        "ANSWER\n",
        "'''\n",
        "\n",
        "import pandas as pd\n",
        "\n",
        "df = pd.read_csv(\"BIKE DETAILS.csv\")\n",
        "df.head()\n",
        "\n",
        "min_price = df[\"selling_price\"].min()\n",
        "max_price = df[\"selling_price\"].max()\n",
        "range_price = max_price - min_price\n",
        "\n",
        "print(f\"Min Price: ₹{min_price}\")\n",
        "print(f\"Max Price: ₹{max_price}\")\n",
        "print(f\"Range: ₹{range_price}\")\n"
      ]
    },
    {
      "cell_type": "code",
      "source": [
        "#q2. What is the median selling price for bikes in the dataset?\n",
        "'''\n",
        "answer\n",
        "'''\n",
        "median_price = df[\"selling_price\"].median()\n",
        "print(f\"Median Selling Price: ₹{median_price}\")\n",
        "\n"
      ],
      "metadata": {
        "colab": {
          "base_uri": "https://localhost:8080/"
        },
        "id": "7eXfyZcDovsl",
        "outputId": "10599e59-b7cc-409a-e66f-79b2ae359116"
      },
      "execution_count": 5,
      "outputs": [
        {
          "output_type": "stream",
          "name": "stdout",
          "text": [
            "Median Selling Price: ₹45000.0\n"
          ]
        }
      ]
    },
    {
      "cell_type": "code",
      "source": [
        "#Q3. What is the most common seller type?\n",
        "'''\n",
        "ANSWER\n",
        "'''\n",
        "common_seller = df[\"seller_type\"].value_counts().idxmax()\n",
        "print(f\"Most Common Seller Type: {common_seller}\")\n"
      ],
      "metadata": {
        "colab": {
          "base_uri": "https://localhost:8080/"
        },
        "id": "b2R1OFxPpklD",
        "outputId": "c280ddbc-26b1-4054-e56c-aacdc1c510b2"
      },
      "execution_count": 7,
      "outputs": [
        {
          "output_type": "stream",
          "name": "stdout",
          "text": [
            "Most Common Seller Type: Individual\n"
          ]
        }
      ]
    },
    {
      "cell_type": "code",
      "source": [
        "#Q4. How many bikes have driven more than 50,000 kilometers?\n",
        "'''\n",
        "ANSWER\n",
        "'''\n",
        "dealer_percent = (df[\"seller_type\"] == \"Dealer\").sum() / len(df) * 100\n",
        "print(f\"Percentage sold by dealers: {dealer_percent:.2f}%\")\n"
      ],
      "metadata": {
        "colab": {
          "base_uri": "https://localhost:8080/"
        },
        "id": "WDxQQtrnpp0C",
        "outputId": "b5673276-9f3b-4e00-91c6-8408bdb407e9"
      },
      "execution_count": 8,
      "outputs": [
        {
          "output_type": "stream",
          "name": "stdout",
          "text": [
            "Percentage sold by dealers: 0.57%\n"
          ]
        }
      ]
    },
    {
      "cell_type": "code",
      "source": [
        "#Q5. What is the average km_driven value for each ownership type?\n",
        "'''\n",
        "ANSWER\n",
        "'''\n",
        "ownership_dist = df[\"owner\"].value_counts(normalize=True) * 100\n",
        "ownership_dist.round(2)\n"
      ],
      "metadata": {
        "colab": {
          "base_uri": "https://localhost:8080/",
          "height": 241
        },
        "id": "vzVekjeGp1Ho",
        "outputId": "040ba389-1ad0-49c3-9d4e-5eccdbf74cc4"
      },
      "execution_count": 9,
      "outputs": [
        {
          "output_type": "execute_result",
          "data": {
            "text/plain": [
              "owner\n",
              "1st owner    87.09\n",
              "2nd owner    11.59\n",
              "3rd owner     1.04\n",
              "4th owner     0.28\n",
              "Name: proportion, dtype: float64"
            ],
            "text/html": [
              "<div>\n",
              "<style scoped>\n",
              "    .dataframe tbody tr th:only-of-type {\n",
              "        vertical-align: middle;\n",
              "    }\n",
              "\n",
              "    .dataframe tbody tr th {\n",
              "        vertical-align: top;\n",
              "    }\n",
              "\n",
              "    .dataframe thead th {\n",
              "        text-align: right;\n",
              "    }\n",
              "</style>\n",
              "<table border=\"1\" class=\"dataframe\">\n",
              "  <thead>\n",
              "    <tr style=\"text-align: right;\">\n",
              "      <th></th>\n",
              "      <th>proportion</th>\n",
              "    </tr>\n",
              "    <tr>\n",
              "      <th>owner</th>\n",
              "      <th></th>\n",
              "    </tr>\n",
              "  </thead>\n",
              "  <tbody>\n",
              "    <tr>\n",
              "      <th>1st owner</th>\n",
              "      <td>87.09</td>\n",
              "    </tr>\n",
              "    <tr>\n",
              "      <th>2nd owner</th>\n",
              "      <td>11.59</td>\n",
              "    </tr>\n",
              "    <tr>\n",
              "      <th>3rd owner</th>\n",
              "      <td>1.04</td>\n",
              "    </tr>\n",
              "    <tr>\n",
              "      <th>4th owner</th>\n",
              "      <td>0.28</td>\n",
              "    </tr>\n",
              "  </tbody>\n",
              "</table>\n",
              "</div><br><label><b>dtype:</b> float64</label>"
            ]
          },
          "metadata": {},
          "execution_count": 9
        }
      ]
    },
    {
      "cell_type": "code",
      "source": [
        "#Q6. What proportion of bikes are from the year 2015 or older?\n",
        "'''\n",
        "ANSWER\n",
        "'''\n",
        "most_bikes_year = df[\"year\"].value_counts().idxmax()\n",
        "bike_counts_by_year = df[\"year\"].value_counts()\n",
        "\n",
        "print(f\"Year with most bikes listed: {most_bikes_year}\")\n",
        "bike_counts_by_year.head()\n"
      ],
      "metadata": {
        "colab": {
          "base_uri": "https://localhost:8080/",
          "height": 289
        },
        "id": "yR2dSJXkp9DU",
        "outputId": "8d4ecc80-357b-4eb3-85fc-70fdb789bc67"
      },
      "execution_count": 11,
      "outputs": [
        {
          "output_type": "stream",
          "name": "stdout",
          "text": [
            "Year with most bikes listed: 2017\n"
          ]
        },
        {
          "output_type": "execute_result",
          "data": {
            "text/plain": [
              "year\n",
              "2017    133\n",
              "2018    131\n",
              "2016    107\n",
              "2015    100\n",
              "2014     91\n",
              "Name: count, dtype: int64"
            ],
            "text/html": [
              "<div>\n",
              "<style scoped>\n",
              "    .dataframe tbody tr th:only-of-type {\n",
              "        vertical-align: middle;\n",
              "    }\n",
              "\n",
              "    .dataframe tbody tr th {\n",
              "        vertical-align: top;\n",
              "    }\n",
              "\n",
              "    .dataframe thead th {\n",
              "        text-align: right;\n",
              "    }\n",
              "</style>\n",
              "<table border=\"1\" class=\"dataframe\">\n",
              "  <thead>\n",
              "    <tr style=\"text-align: right;\">\n",
              "      <th></th>\n",
              "      <th>count</th>\n",
              "    </tr>\n",
              "    <tr>\n",
              "      <th>year</th>\n",
              "      <th></th>\n",
              "    </tr>\n",
              "  </thead>\n",
              "  <tbody>\n",
              "    <tr>\n",
              "      <th>2017</th>\n",
              "      <td>133</td>\n",
              "    </tr>\n",
              "    <tr>\n",
              "      <th>2018</th>\n",
              "      <td>131</td>\n",
              "    </tr>\n",
              "    <tr>\n",
              "      <th>2016</th>\n",
              "      <td>107</td>\n",
              "    </tr>\n",
              "    <tr>\n",
              "      <th>2015</th>\n",
              "      <td>100</td>\n",
              "    </tr>\n",
              "    <tr>\n",
              "      <th>2014</th>\n",
              "      <td>91</td>\n",
              "    </tr>\n",
              "  </tbody>\n",
              "</table>\n",
              "</div><br><label><b>dtype:</b> int64</label>"
            ]
          },
          "metadata": {},
          "execution_count": 11
        }
      ]
    },
    {
      "cell_type": "code",
      "source": [
        "#Q7. What is the trend of missing values across the dataset?\n",
        "'''\n",
        "ANSWER\n",
        "'''\n",
        "avg_km_driven = df[\"km_driven\"].mean()\n",
        "print(f\"Average KM Driven: {avg_km_driven:.2f} km\")\n"
      ],
      "metadata": {
        "colab": {
          "base_uri": "https://localhost:8080/"
        },
        "id": "4N8UDc9vqa0b",
        "outputId": "54942227-f4fa-4ba7-ff8d-d5a03285df5c"
      },
      "execution_count": 12,
      "outputs": [
        {
          "output_type": "stream",
          "name": "stdout",
          "text": [
            "Average KM Driven: 34359.83 km\n"
          ]
        }
      ]
    },
    {
      "cell_type": "code",
      "source": [
        "#Q8. What is the highest ex_showroom_price recorded, and for which bike?\n",
        "'''\n",
        "ANSWER\n",
        "'''\n",
        "correlation = df[\"selling_price\"].corr(df[\"km_driven\"])\n",
        "print(f\"Correlation between Selling Price and KM Driven: {correlation:.4f}\")\n"
      ],
      "metadata": {
        "colab": {
          "base_uri": "https://localhost:8080/"
        },
        "id": "HiyYobbgqpYZ",
        "outputId": "423dda2a-2b39-485f-867c-7c9f344dfc04"
      },
      "execution_count": 13,
      "outputs": [
        {
          "output_type": "stream",
          "name": "stdout",
          "text": [
            "Correlation between Selling Price and KM Driven: -0.2129\n"
          ]
        }
      ]
    },
    {
      "cell_type": "code",
      "source": [
        "#Q9. What is the total number of bikes listed by each seller type?\n",
        "'''\n",
        "ANSWER\n",
        "'''\n",
        "import matplotlib.pyplot as plt\n",
        "\n",
        "plt.figure(figsize=(10, 5))\n",
        "plt.hist(df[\"selling_price\"], bins=30, color='skyblue', edgecolor='black')\n",
        "plt.title(\"Distribution of Selling Prices\")\n",
        "plt.xlabel(\"Selling Price (₹)\")\n",
        "plt.ylabel(\"Frequency\")\n",
        "plt.grid(True)\n",
        "plt.show()\n"
      ],
      "metadata": {
        "colab": {
          "base_uri": "https://localhost:8080/",
          "height": 487
        },
        "id": "4jn_960pqxTn",
        "outputId": "2d61a8b8-8f8a-43e2-b8ed-cbb05ed082d1"
      },
      "execution_count": 14,
      "outputs": [
        {
          "output_type": "display_data",
          "data": {
            "text/plain": [
              "<Figure size 1000x500 with 1 Axes>"
            ],
            "image/png": "[encoded data removed]"
          },
          "metadata": {}
        }
      ]
    },
    {
      "cell_type": "code",
      "source": [
        "#Q10. What is the relationship between selling_price and km_driven for first-owner bikes?\n",
        "'''\n",
        "ANSWER\n",
        "'''\n",
        "avg_price_by_owner = df.groupby(\"owner\")[\"selling_price\"].mean().sort_values(ascending=False)\n",
        "avg_price_by_owner\n",
        "\n"
      ],
      "metadata": {
        "colab": {
          "base_uri": "https://localhost:8080/",
          "height": 241
        },
        "id": "xhDM04r3q6U0",
        "outputId": "9cba5f57-c43f-44f1-923e-0163a8478720"
      },
      "execution_count": 15,
      "outputs": [
        {
          "output_type": "execute_result",
          "data": {
            "text/plain": [
              "owner\n",
              "4th owner    118333.333333\n",
              "1st owner     60022.813853\n",
              "3rd owner     55727.272727\n",
              "2nd owner     55666.658537\n",
              "Name: selling_price, dtype: float64"
            ],
            "text/html": [
              "<div>\n",
              "<style scoped>\n",
              "    .dataframe tbody tr th:only-of-type {\n",
              "        vertical-align: middle;\n",
              "    }\n",
              "\n",
              "    .dataframe tbody tr th {\n",
              "        vertical-align: top;\n",
              "    }\n",
              "\n",
              "    .dataframe thead th {\n",
              "        text-align: right;\n",
              "    }\n",
              "</style>\n",
              "<table border=\"1\" class=\"dataframe\">\n",
              "  <thead>\n",
              "    <tr style=\"text-align: right;\">\n",
              "      <th></th>\n",
              "      <th>selling_price</th>\n",
              "    </tr>\n",
              "    <tr>\n",
              "      <th>owner</th>\n",
              "      <th></th>\n",
              "    </tr>\n",
              "  </thead>\n",
              "  <tbody>\n",
              "    <tr>\n",
              "      <th>4th owner</th>\n",
              "      <td>118333.333333</td>\n",
              "    </tr>\n",
              "    <tr>\n",
              "      <th>1st owner</th>\n",
              "      <td>60022.813853</td>\n",
              "    </tr>\n",
              "    <tr>\n",
              "      <th>3rd owner</th>\n",
              "      <td>55727.272727</td>\n",
              "    </tr>\n",
              "    <tr>\n",
              "      <th>2nd owner</th>\n",
              "      <td>55666.658537</td>\n",
              "    </tr>\n",
              "  </tbody>\n",
              "</table>\n",
              "</div><br><label><b>dtype:</b> float64</label>"
            ]
          },
          "metadata": {},
          "execution_count": 15
        }
      ]
    },
    {
      "cell_type": "code",
      "source": [
        "#Q11. Identify and remove outliers in the km_driven column using the IQR method.\n",
        "'''\n",
        "ANSWER\n",
        "'''\n",
        "missing_ex_showroom = df[df[\"ex_showroom_price\"].isnull()]\n",
        "missing_ex_showroom.head()\n",
        "print(f\"Total bikes with missing ex-showroom price: {len(missing_ex_showroom)}\")\n"
      ],
      "metadata": {
        "colab": {
          "base_uri": "https://localhost:8080/"
        },
        "id": "2rUpfThMrGfz",
        "outputId": "811fec4e-8f15-4983-8521-d5b3187296fe"
      },
      "execution_count": 16,
      "outputs": [
        {
          "output_type": "stream",
          "name": "stdout",
          "text": [
            "Total bikes with missing ex-showroom price: 435\n"
          ]
        }
      ]
    },
    {
      "cell_type": "code",
      "source": [
        "#Q12. Perform a bivariate analysis to visualize the relationship between year and selling_price.\n",
        "'''\n",
        "ANSWER\n",
        "'''\n",
        "# Create a new column for profit/loss\n",
        "df[\"profit_loss\"] = df[\"selling_price\"] - df[\"ex_showroom_price\"]\n",
        "df[[\"name\", \"selling_price\", \"ex_showroom_price\", \"profit_loss\"]].head()\n"
      ],
      "metadata": {
        "colab": {
          "base_uri": "https://localhost:8080/",
          "height": 206
        },
        "id": "Ne23SaYirXmd",
        "outputId": "12745a32-efd3-466f-f249-884aaf61ca51"
      },
      "execution_count": 17,
      "outputs": [
        {
          "output_type": "execute_result",
          "data": {
            "text/plain": [
              "                                  name  selling_price  ex_showroom_price  \\\n",
              "0            Royal Enfield Classic 350         175000                NaN   \n",
              "1                            Honda Dio          45000                NaN   \n",
              "2  Royal Enfield Classic Gunmetal Grey         150000           148114.0   \n",
              "3    Yamaha Fazer FI V 2.0 [2016-2018]          65000            89643.0   \n",
              "4                Yamaha SZ [2013-2014]          20000                NaN   \n",
              "\n",
              "   profit_loss  \n",
              "0          NaN  \n",
              "1          NaN  \n",
              "2       1886.0  \n",
              "3     -24643.0  \n",
              "4          NaN  "
            ],
            "text/html": [
              "\n",
              "  <div id=\"df-9450e1d3-4a97-4a07-9d94-feb0e01e4cc7\" class=\"colab-df-container\">\n",
              "    <div>\n",
              "<style scoped>\n",
              "    .dataframe tbody tr th:only-of-type {\n",
              "        vertical-align: middle;\n",
              "    }\n",
              "\n",
              "    .dataframe tbody tr th {\n",
              "        vertical-align: top;\n",
              "    }\n",
              "\n",
              "    .dataframe thead th {\n",
              "        text-align: right;\n",
              "    }\n",
              "</style>\n",
              "<table border=\"1\" class=\"dataframe\">\n",
              "  <thead>\n",
              "    <tr style=\"text-align: right;\">\n",
              "      <th></th>\n",
              "      <th>name</th>\n",
              "      <th>selling_price</th>\n",
              "      <th>ex_showroom_price</th>\n",
              "      <th>profit_loss</th>\n",
              "    </tr>\n",
              "  </thead>\n",
              "  <tbody>\n",
              "    <tr>\n",
              "      <th>0</th>\n",
              "      <td>Royal Enfield Classic 350</td>\n",
              "      <td>175000</td>\n",
              "      <td>NaN</td>\n",
              "      <td>NaN</td>\n",
              "    </tr>\n",
              "    <tr>\n",
              "      <th>1</th>\n",
              "      <td>Honda Dio</td>\n",
              "      <td>45000</td>\n",
              "      <td>NaN</td>\n",
              "      <td>NaN</td>\n",
              "    </tr>\n",
              "    <tr>\n",
              "      <th>2</th>\n",
              "      <td>Royal Enfield Classic Gunmetal Grey</td>\n",
              "      <td>150000</td>\n",
              "      <td>148114.0</td>\n",
              "      <td>1886.0</td>\n",
              "    </tr>\n",
              "    <tr>\n",
              "      <th>3</th>\n",
              "      <td>Yamaha Fazer FI V 2.0 [2016-2018]</td>\n",
              "      <td>65000</td>\n",
              "      <td>89643.0</td>\n",
              "      <td>-24643.0</td>\n",
              "    </tr>\n",
              "    <tr>\n",
              "      <th>4</th>\n",
              "      <td>Yamaha SZ [2013-2014]</td>\n",
              "      <td>20000</td>\n",
              "      <td>NaN</td>\n",
              "      <td>NaN</td>\n",
              "    </tr>\n",
              "  </tbody>\n",
              "</table>\n",
              "</div>\n",
              "    <div class=\"colab-df-buttons\">\n",
              "\n",
              "  <div class=\"colab-df-container\">\n",
              "    <button class=\"colab-df-convert\" onclick=\"convertToInteractive('df-9450e1d3-4a97-4a07-9d94-feb0e01e4cc7')\"\n",
              "            title=\"Convert this dataframe to an interactive table.\"\n",
              "            style=\"display:none;\">\n",
              "\n",
              "  <svg xmlns=\"http://www.w3.org/2000/svg\" height=\"24px\" viewBox=\"0 -960 960 960\">\n",
              "    <path d=\"M120-120v-720h720v720H120Zm60-500h600v-160H180v160Zm220 220h160v-160H400v160Zm0 220h160v-160H400v160ZM180-400h160v-160H180v160Zm440 0h160v-160H620v160ZM180-180h160v-160H180v160Zm440 0h160v-160H620v160Z\"/>\n",
              "  </svg>\n",
              "    </button>\n",
              "\n",
              "  <style>\n",
              "    .colab-df-container {\n",
              "      display:flex;\n",
              "      gap: 12px;\n",
              "    }\n",
              "\n",
              "    .colab-df-convert {\n",
              "      background-color: #E8F0FE;\n",
              "      border: none;\n",
              "      border-radius: 50%;\n",
              "      cursor: pointer;\n",
              "      display: none;\n",
              "      fill: #1967D2;\n",
              "      height: 32px;\n",
              "      padding: 0 0 0 0;\n",
              "      width: 32px;\n",
              "    }\n",
              "\n",
              "    .colab-df-convert:hover {\n",
              "      background-color: #E2EBFA;\n",
              "      box-shadow: 0px 1px 2px rgba(60, 64, 67, 0.3), 0px 1px 3px 1px rgba(60, 64, 67, 0.15);\n",
              "      fill: #174EA6;\n",
              "    }\n",
              "\n",
              "    .colab-df-buttons div {\n",
              "      margin-bottom: 4px;\n",
              "    }\n",
              "\n",
              "    [theme=dark] .colab-df-convert {\n",
              "      background-color: #3B4455;\n",
              "      fill: #D2E3FC;\n",
              "    }\n",
              "\n",
              "    [theme=dark] .colab-df-convert:hover {\n",
              "      background-color: #434B5C;\n",
              "      box-shadow: 0px 1px 3px 1px rgba(0, 0, 0, 0.15);\n",
              "      filter: drop-shadow(0px 1px 2px rgba(0, 0, 0, 0.3));\n",
              "      fill: #FFFFFF;\n",
              "    }\n",
              "  </style>\n",
              "\n",
              "    <script>\n",
              "      const buttonEl =\n",
              "        document.querySelector('#df-9450e1d3-4a97-4a07-9d94-feb0e01e4cc7 button.colab-df-convert');\n",
              "      buttonEl.style.display =\n",
              "        google.colab.kernel.accessAllowed ? 'block' : 'none';\n",
              "\n",
              "      async function convertToInteractive(key) {\n",
              "        const element = document.querySelector('#df-9450e1d3-4a97-4a07-9d94-feb0e01e4cc7');\n",
              "        const dataTable =\n",
              "          await google.colab.kernel.invokeFunction('convertToInteractive',\n",
              "                                                    [key], {});\n",
              "        if (!dataTable) return;\n",
              "\n",
              "        const docLinkHtml = 'Like what you see? Visit the ' +\n",
              "          '<a target=\"_blank\" href=https://colab.research.google.com/notebooks/data_table.ipynb>data table notebook</a>'\n",
              "          + ' to learn more about interactive tables.';\n",
              "        element.innerHTML = '';\n",
              "        dataTable['output_type'] = 'display_data';\n",
              "        await google.colab.output.renderOutput(dataTable, element);\n",
              "        const docLink = document.createElement('div');\n",
              "        docLink.innerHTML = docLinkHtml;\n",
              "        element.appendChild(docLink);\n",
              "      }\n",
              "    </script>\n",
              "  </div>\n",
              "\n",
              "\n",
              "<div id=\"df-420f9a21-801e-464c-96a7-062162c81e57\">\n",
              "  <button class=\"colab-df-quickchart\" onclick=\"quickchart('df-420f9a21-801e-464c-96a7-062162c81e57')\"\n",
              "            title=\"Suggest charts\"\n",
              "            style=\"display:none;\">\n",
              "\n",
              "<svg xmlns=\"http://www.w3.org/2000/svg\" height=\"24px\"viewBox=\"0 0 24 24\"\n",
              "     width=\"24px\">\n",
              "    <g>\n",
              "        <path d=\"M19 3H5c-1.1 0-2 .9-2 2v14c0 1.1.9 2 2 2h14c1.1 0 2-.9 2-2V5c0-1.1-.9-2-2-2zM9 17H7v-7h2v7zm4 0h-2V7h2v10zm4 0h-2v-4h2v4z\"/>\n",
              "    </g>\n",
              "</svg>\n",
              "  </button>\n",
              "\n",
              "<style>\n",
              "  .colab-df-quickchart {\n",
              "      --bg-color: #E8F0FE;\n",
              "      --fill-color: #1967D2;\n",
              "      --hover-bg-color: #E2EBFA;\n",
              "      --hover-fill-color: #174EA6;\n",
              "      --disabled-fill-color: #AAA;\n",
              "      --disabled-bg-color: #DDD;\n",
              "  }\n",
              "\n",
              "  [theme=dark] .colab-df-quickchart {\n",
              "      --bg-color: #3B4455;\n",
              "      --fill-color: #D2E3FC;\n",
              "      --hover-bg-color: #434B5C;\n",
              "      --hover-fill-color: #FFFFFF;\n",
              "      --disabled-bg-color: #3B4455;\n",
              "      --disabled-fill-color: #666;\n",
              "  }\n",
              "\n",
              "  .colab-df-quickchart {\n",
              "    background-color: var(--bg-color);\n",
              "    border: none;\n",
              "    border-radius: 50%;\n",
              "    cursor: pointer;\n",
              "    display: none;\n",
              "    fill: var(--fill-color);\n",
              "    height: 32px;\n",
              "    padding: 0;\n",
              "    width: 32px;\n",
              "  }\n",
              "\n",
              "  .colab-df-quickchart:hover {\n",
              "    background-color: var(--hover-bg-color);\n",
              "    box-shadow: 0 1px 2px rgba(60, 64, 67, 0.3), 0 1px 3px 1px rgba(60, 64, 67, 0.15);\n",
              "    fill: var(--button-hover-fill-color);\n",
              "  }\n",
              "\n",
              "  .colab-df-quickchart-complete:disabled,\n",
              "  .colab-df-quickchart-complete:disabled:hover {\n",
              "    background-color: var(--disabled-bg-color);\n",
              "    fill: var(--disabled-fill-color);\n",
              "    box-shadow: none;\n",
              "  }\n",
              "\n",
              "  .colab-df-spinner {\n",
              "    border: 2px solid var(--fill-color);\n",
              "    border-color: transparent;\n",
              "    border-bottom-color: var(--fill-color);\n",
              "    animation:\n",
              "      spin 1s steps(1) infinite;\n",
              "  }\n",
              "\n",
              "  @keyframes spin {\n",
              "    0% {\n",
              "      border-color: transparent;\n",
              "      border-bottom-color: var(--fill-color);\n",
              "      border-left-color: var(--fill-color);\n",
              "    }\n",
              "    20% {\n",
              "      border-color: transparent;\n",
              "      border-left-color: var(--fill-color);\n",
              "      border-top-color: var(--fill-color);\n",
              "    }\n",
              "    30% {\n",
              "      border-color: transparent;\n",
              "      border-left-color: var(--fill-color);\n",
              "      border-top-color: var(--fill-color);\n",
              "      border-right-color: var(--fill-color);\n",
              "    }\n",
              "    40% {\n",
              "      border-color: transparent;\n",
              "      border-right-color: var(--fill-color);\n",
              "      border-top-color: var(--fill-color);\n",
              "    }\n",
              "    60% {\n",
              "      border-color: transparent;\n",
              "      border-right-color: var(--fill-color);\n",
              "    }\n",
              "    80% {\n",
              "      border-color: transparent;\n",
              "      border-right-color: var(--fill-color);\n",
              "      border-bottom-color: var(--fill-color);\n",
              "    }\n",
              "    90% {\n",
              "      border-color: transparent;\n",
              "      border-bottom-color: var(--fill-color);\n",
              "    }\n",
              "  }\n",
              "</style>\n",
              "\n",
              "  <script>\n",
              "    async function quickchart(key) {\n",
              "      const quickchartButtonEl =\n",
              "        document.querySelector('#' + key + ' button');\n",
              "      quickchartButtonEl.disabled = true;  // To prevent multiple clicks.\n",
              "      quickchartButtonEl.classList.add('colab-df-spinner');\n",
              "      try {\n",
              "        const charts = await google.colab.kernel.invokeFunction(\n",
              "            'suggestCharts', [key], {});\n",
              "      } catch (error) {\n",
              "        console.error('Error during call to suggestCharts:', error);\n",
              "      }\n",
              "      quickchartButtonEl.classList.remove('colab-df-spinner');\n",
              "      quickchartButtonEl.classList.add('colab-df-quickchart-complete');\n",
              "    }\n",
              "    (() => {\n",
              "      let quickchartButtonEl =\n",
              "        document.querySelector('#df-420f9a21-801e-464c-96a7-062162c81e57 button');\n",
              "      quickchartButtonEl.style.display =\n",
              "        google.colab.kernel.accessAllowed ? 'block' : 'none';\n",
              "    })();\n",
              "  </script>\n",
              "</div>\n",
              "\n",
              "    </div>\n",
              "  </div>\n"
            ],
            "application/vnd.google.colaboratory.intrinsic+json": {
              "type": "dataframe",
              "summary": "{\n  \"name\": \"df[[\\\"name\\\", \\\"selling_price\\\", \\\"ex_showroom_price\\\", \\\"profit_loss\\\"]]\",\n  \"rows\": 5,\n  \"fields\": [\n    {\n      \"column\": \"name\",\n      \"properties\": {\n        \"dtype\": \"string\",\n        \"num_unique_values\": 5,\n        \"samples\": [\n          \"Honda Dio\",\n          \"Yamaha SZ [2013-2014]\",\n          \"Royal Enfield Classic Gunmetal Grey\"\n        ],\n        \"semantic_type\": \"\",\n        \"description\": \"\"\n      }\n    },\n    {\n      \"column\": \"selling_price\",\n      \"properties\": {\n        \"dtype\": \"number\",\n        \"std\": 67767,\n        \"min\": 20000,\n        \"max\": 175000,\n        \"num_unique_values\": 5,\n        \"samples\": [\n          45000,\n          20000,\n          150000\n        ],\n        \"semantic_type\": \"\",\n        \"description\": \"\"\n      }\n    },\n    {\n      \"column\": \"ex_showroom_price\",\n      \"properties\": {\n        \"dtype\": \"number\",\n        \"std\": 41345.24060275862,\n        \"min\": 89643.0,\n        \"max\": 148114.0,\n        \"num_unique_values\": 2,\n        \"samples\": [\n          89643.0,\n          148114.0\n        ],\n        \"semantic_type\": \"\",\n        \"description\": \"\"\n      }\n    },\n    {\n      \"column\": \"profit_loss\",\n      \"properties\": {\n        \"dtype\": \"number\",\n        \"std\": 18758.83579809792,\n        \"min\": -24643.0,\n        \"max\": 1886.0,\n        \"num_unique_values\": 2,\n        \"samples\": [\n          -24643.0,\n          1886.0\n        ],\n        \"semantic_type\": \"\",\n        \"description\": \"\"\n      }\n    }\n  ]\n}"
            }
          },
          "metadata": {},
          "execution_count": 17
        }
      ]
    },
    {
      "cell_type": "code",
      "source": [
        "#Q13. What is the average depreciation in selling price based on the bike's age (current year - manufacturing year)?\n",
        "'''\n",
        "ANSWER\n",
        "'''\n",
        "average_profit_loss = df[\"profit_loss\"].mean()\n",
        "print(f\"Average Profit/Loss: ₹{average_profit_loss:.2f}\")\n"
      ],
      "metadata": {
        "colab": {
          "base_uri": "https://localhost:8080/"
        },
        "id": "LsbGGKllrhvt",
        "outputId": "050962ca-7fd5-46a6-fc21-8b899c4c5d15"
      },
      "execution_count": 18,
      "outputs": [
        {
          "output_type": "stream",
          "name": "stdout",
          "text": [
            "Average Profit/Loss: ₹-28513.55\n"
          ]
        }
      ]
    },
    {
      "cell_type": "code",
      "source": [
        "#Q14. Which bike names are priced significantly above the average price for their manufacturing year?\n",
        "'''\n",
        "ANSWER\n",
        "'''\n",
        "plt.figure(figsize=(8, 5))\n",
        "plt.scatter(df[\"ex_showroom_price\"], df[\"selling_price\"], alpha=0.5, color=\"purple\")\n",
        "plt.title(\"Selling Price vs. Ex-Showroom Price\")\n",
        "plt.xlabel(\"Ex-Showroom Price (₹)\")\n",
        "plt.ylabel(\"Selling Price (₹)\")\n",
        "plt.grid(True)\n",
        "plt.show()\n"
      ],
      "metadata": {
        "colab": {
          "base_uri": "https://localhost:8080/",
          "height": 487
        },
        "id": "cOOyyMrbrrxN",
        "outputId": "1e042cc8-64cd-4119-b598-c70b9da4e8b5"
      },
      "execution_count": 19,
      "outputs": [
        {
          "output_type": "display_data",
          "data": {
            "text/plain": [
              "<Figure size 800x500 with 1 Axes>"
            ],
            "image/png": "[encoded data removed]"
          },
          "metadata": {}
        }
      ]
    },
    {
      "cell_type": "code",
      "source": [
        "#Q15. Develop a correlation matrix for numeric columns and visualize it using a heatmap?\n",
        "'''\n",
        "answer\n",
        "'''\n",
        "\n",
        "max_profit_bike = df.loc[df[\"profit_loss\"].idxmax()]\n",
        "max_profit_bike\n"
      ],
      "metadata": {
        "colab": {
          "base_uri": "https://localhost:8080/",
          "height": 335
        },
        "id": "JTEiBK00r0M1",
        "outputId": "9cf0d4af-36fa-4254-f043-26d6a1d6ee33"
      },
      "execution_count": 22,
      "outputs": [
        {
          "output_type": "execute_result",
          "data": {
            "text/plain": [
              "name                 Royal Enfield Classic Gunmetal Grey\n",
              "selling_price                                     190000\n",
              "year                                                2020\n",
              "seller_type                                   Individual\n",
              "owner                                          1st owner\n",
              "km_driven                                            500\n",
              "ex_showroom_price                               155740.0\n",
              "profit_loss                                      34260.0\n",
              "Name: 136, dtype: object"
            ],
            "text/html": [
              "<div>\n",
              "<style scoped>\n",
              "    .dataframe tbody tr th:only-of-type {\n",
              "        vertical-align: middle;\n",
              "    }\n",
              "\n",
              "    .dataframe tbody tr th {\n",
              "        vertical-align: top;\n",
              "    }\n",
              "\n",
              "    .dataframe thead th {\n",
              "        text-align: right;\n",
              "    }\n",
              "</style>\n",
              "<table border=\"1\" class=\"dataframe\">\n",
              "  <thead>\n",
              "    <tr style=\"text-align: right;\">\n",
              "      <th></th>\n",
              "      <th>136</th>\n",
              "    </tr>\n",
              "  </thead>\n",
              "  <tbody>\n",
              "    <tr>\n",
              "      <th>name</th>\n",
              "      <td>Royal Enfield Classic Gunmetal Grey</td>\n",
              "    </tr>\n",
              "    <tr>\n",
              "      <th>selling_price</th>\n",
              "      <td>190000</td>\n",
              "    </tr>\n",
              "    <tr>\n",
              "      <th>year</th>\n",
              "      <td>2020</td>\n",
              "    </tr>\n",
              "    <tr>\n",
              "      <th>seller_type</th>\n",
              "      <td>Individual</td>\n",
              "    </tr>\n",
              "    <tr>\n",
              "      <th>owner</th>\n",
              "      <td>1st owner</td>\n",
              "    </tr>\n",
              "    <tr>\n",
              "      <th>km_driven</th>\n",
              "      <td>500</td>\n",
              "    </tr>\n",
              "    <tr>\n",
              "      <th>ex_showroom_price</th>\n",
              "      <td>155740.0</td>\n",
              "    </tr>\n",
              "    <tr>\n",
              "      <th>profit_loss</th>\n",
              "      <td>34260.0</td>\n",
              "    </tr>\n",
              "  </tbody>\n",
              "</table>\n",
              "</div><br><label><b>dtype:</b> object</label>"
            ]
          },
          "metadata": {},
          "execution_count": 22
        }
      ]
    },
    {
      "cell_type": "code",
      "source": [
        "\n",
        "import pandas as pd\n",
        "import seaborn as sns\n",
        "import matplotlib.pyplot as plt\n",
        "\n",
        "\n",
        "df = pd.read_csv(\"BIKE DETAILS.csv\")\n",
        "\n",
        "\n",
        "numeric_df = df.select_dtypes(include='number')\n",
        "\n",
        "correlation_matrix = numeric_df.corr()\n",
        "\n",
        "plt.figure(figsize=(8, 6))\n",
        "sns.heatmap(correlation_matrix, annot=True, cmap='coolwarm', linewidths=0.5, fmt=\".2f\")\n",
        "plt.title(\"Correlation Matrix - Numeric Features\")\n",
        "plt.show()\n",
        "\n",
        "\n",
        "\n"
      ],
      "metadata": {
        "colab": {
          "base_uri": "https://localhost:8080/",
          "height": 545
        },
        "id": "ktS9ZSn2r9we",
        "outputId": "2286baf9-04df-4146-ace6-040d4d711cc6"
      },
      "execution_count": 23,
      "outputs": [
        {
          "output_type": "display_data",
          "data": {
            "text/plain": [
              "<Figure size 800x600 with 2 Axes>"
            ],
            "image/png": "[encoded data removed]"
          },
          "metadata": {}
        }
      ]
    },
    {
      "cell_type": "code",
      "source": [
        "#EDA-2\n"
      ],
      "metadata": {
        "id": "tazpznbsstu_"
      },
      "execution_count": null,
      "outputs": []
    }
  ]
}