{
  "nbformat": 4,
  "nbformat_minor": 0,
  "metadata": {
    "colab": {
      "provenance": []
    },
    "kernelspec": {
      "name": "python3",
      "display_name": "Python 3"
    },
    "language_info": {
      "name": "python"
    }
  },
  "cells": [
    {
      "cell_type": "code",
      "execution_count": null,
      "metadata": {
        "id": "qEC0_yNWui0c"
      },
      "outputs": [],
      "source": []
    },
    {
      "cell_type": "markdown",
      "source": [
        "#Files, exceptional handling, logging and    memory management Questions\n",
        "\n",
        "Q1. What is the difference between interpreted and compiled languages?\n",
        "\n",
        "- The main difference between interpreted and compiled languages is how the code is executed:\n",
        "**Compiled languages**\n",
        "The code is converted into machine language once, and then executed. This results in efficient code that can be executed multiple times.\n",
        "**Interpreted languages**\n",
        "The code is compiled each time the program is run. This means that the code is parsed, interpreted, and executed line by line each time the program runs.\n",
        "\n",
        "Q2.What is exception handling in Python?\n",
        "\n",
        "- Exception handling in Python is a way to manage and respond to errors that occur while a program is running. It allows a program to continue running or exit gracefully instead of terminating.\n",
        "\n",
        "Q3. What is the purpose of the finally block in exception handling?\n",
        "\n",
        "- The purpose of the finally block in exception handling is to execute code that is important to run regardless of whether an exception occurs. This code is often used for resource cleanup, such as closing files or database connections.\n",
        "\n",
        "Q4. What is logging in Python?\n",
        "\n",
        "- Python logging is a module that records events that occur while a Python program is running. It's a useful tool for debugging, troubleshooting, and monitoring a program.\n",
        "\n",
        "Q5. What is the significance of the __del__ method in Python?\n",
        "\n",
        "- In Python, the __del__ method, also known as a destructor, is a special method that is called automatically when an object is about to be garbage collected, meaning when there are no more references to that object left in the program, allowing for any necessary cleanup or resource release before the object is removed from memory; however, due to the unpredictable timing of garbage collection, it's generally not recommended to rely heavily on __del__ for critical resource management.\n",
        "\n",
        "Q6. What is the difference between import and from ... import in Python?\n",
        "\n",
        "- The difference between import and from import in Python is:\n",
        "\n",
        " -import imports an entire code library.\n",
        "\n",
        " -from import imports a specific member or members of the library.\n",
        "\n",
        "Q7.How can you handle multiple exceptions in Python?\n",
        "\n",
        "- In Python, you can handle multiple exceptions in a single try-except block by using a tuple of exception types. This is useful when different exceptions require similar handling logic.\n",
        "**How to handle multiple exceptions in Python**\n",
        "-Use a try-except block to catch and respond to one or more exceptions\n",
        "-Specify the exception types as a tuple in the except clause\n",
        "-Separate each exception type with a vertical bar (|)\n",
        "\n",
        "Q8. What is the purpose of the with statement when handling files in Python?\n",
        "\n",
        "- The with statement in Python manages resources like files, database connections, and network sockets. It ensures that resources are initialized before use and cleaned up after use. This is useful for resource-intensive operations, where proper cleanup is important.\n",
        "\n",
        "Q9. What is the difference between multithreading and multiprocessing?\n",
        "\n",
        "- Multithreading and multiprocessing are both ways to increase computing power by running multiple tasks simultaneously. The main difference is that multithreading uses a single processor, while multiprocessing uses multiple processors.\n",
        "\n",
        "Q10. What are the advantages of using logging in a program?\n",
        "\n",
        "- Logging in a program can help you identify and fix issues, improve security, and enhance user experience.\n",
        "\n",
        "Q11. What is memory management in Python?\n",
        "\n",
        "- Memory management in Python is the process of allocating and freeing up memory for programs to run efficiently. Python automatically manages memory, which can improve program performance and reduce space complexity.\n",
        "\n",
        "Q12. What are the basic steps involved in exception handling in Python?\n",
        "\n",
        "- The basic steps for exception handling in Python are:\n",
        "**Use the try block:** Test the code for errors.\n",
        "**Use the except block:** Handle the error or exception.\n",
        "**Use the else block:** Run code if no exception occurs.\n",
        "**Use the finally block:** Run code regardless of whether an exception occurs.\n",
        "\n",
        "Q13. Why is memory management important in Python?\n",
        "\n",
        "- Memory management in Python is important because it helps programs run efficiently and prevents memory leaks. This allows you to focus on writing code instead of worrying about memory allocation.\n",
        "\n",
        "Q14. What is the role of try and except in exception handling?\n",
        "\n",
        "- In Python, the try and except blocks are used to handle exceptions, or errors, in code. The try block tests code for errors, and the except block handles those errors.\n",
        "\n",
        "Q15. How does Python's garbage collection system work?\n",
        "\n",
        "- Python's garbage collection system automatically removes objects from memory that are no longer in use. It uses two main methods to do this: reference counting and generational garbage collection.\n",
        "\n",
        "Q16. What is the purpose of the else block in exception handling?\n",
        "\n",
        "- The purpose of the else block in exception handling is to execute code when no exceptions occur in the try block. It's useful for performing specific actions when the try block succeeds.\n",
        "\n",
        "Q17. What are the common logging levels in Python?\n",
        "\n",
        "- There are six levels for logging in Python; each level is associated with an integer that indicates the log severity: NOTSET=0, DEBUG=10, INFO=20, WARN=30, ERROR=40, and CRITICAL=50.\n",
        "\n",
        "Q18. What is the difference between os.fork() and multiprocessing in Python?\n",
        "\n",
        "- \"fork\" : This is the default on Linux. It involves making an exact copy of the current process' in-memory state using the fork() system call… with the caveat that all threads are gone in this subprocess. \"forkserver\" : A Python subprocess is started, and then that is fork() ed.\n",
        "\n",
        "Q20. What is the difference between file.read() and file.readline() in Python?\n",
        "\n",
        "- In Python, the `read()` method is used to read a specified number of characters from a file or input stream, while the `readline()` method is used to read a single line from a file or input stream. The `read()` method will read the entire content of the file or stream if no argument is provided, returning a string.\n",
        "\n",
        "Q21. What is the logging module in Python used for?\n",
        "\n",
        "- The logging module in Python is used to track events that happen while a program is running. It's a built-in module in the Python standard library.\n",
        "What it's used for\n",
        "-Debugging: Logging can help you identify and fix issues in your program.\n",
        "-Troubleshooting: Logging can help you understand what's causing problems in your program.\n",
        "-Monitoring: Logging can help you monitor the health of your program.\n",
        "-Detecting patterns: Logging can help you identify patterns in errors and bugs, especially those that occur in rare cases.\n",
        "\n",
        "Q22. What is the os module in Python used for in file handling?\n",
        "\n",
        "- Python has a built-in os module with methods for interacting with the operating system, like creating files and directories, management of files and directories, input, output, environment variables, process management, etc. The os module has the following set of methods and constants.\n",
        "\n",
        "Q23. What are the challenges associated with memory management in Python?\n",
        "\n",
        "- Memory management in Python can be challenging because of:\n",
        "-Memory leaks\n",
        "When memory is created for a variable, object, or reference and not deleted, it can lead to memory leaks. This can cause issues for programs like servers and daemons that never terminate.\n",
        "-Performance degradation\n",
        "Without proper garbage collection, unused memory can accumulate over time, leading to performance degradation.\n",
        "-Slower runtimes\n",
        "Python may hold freed memory in the interpreter instead of freeing it up for the operating system, which can slow down program runtimes.\n",
        "\n",
        "Q24. How do you raise an exception manually in Python?\n",
        "\n",
        "- As a Python developer you can choose to throw an exception if a condition occurs. To throw (or raise) an exception, use the raise keyword.\n",
        "\n",
        "Q25. Why is it important to use multithreading in certain applications?\n",
        "\n",
        "- Multithreading is important in certain applications because it can improve performance, scalability, and system reliability. Multithreading allows a program to run multiple tasks simultaneously by dividing them into smaller threads."
      ],
      "metadata": {
        "id": "6x2kWCV2uk1N"
      }
    },
    {
      "cell_type": "code",
      "source": [
        "#Practical Questions"
      ],
      "metadata": {
        "id": "K9TS6SRev9EZ"
      },
      "execution_count": null,
      "outputs": []
    },
    {
      "cell_type": "code",
      "source": [
        "#Q1. How can you open a file for writing in Python and write a string to it?\n",
        "'''\n",
        "ANSWER\n",
        "'''\n",
        "with open('example.txt', 'w') as file:\n",
        "    file.write(\"Hello, this is a string written to the file!\")\n",
        ""
      ],
      "metadata": {
        "id": "Ef-UVJLJ5FJT"
      },
      "execution_count": 1,
      "outputs": []
    },
    {
      "cell_type": "code",
      "source": [
        "#Q2. Write a Python program to read the contents of a file and print each line.\n",
        "'''\n",
        "answer\n",
        "'''\n",
        "with open('example.txt', 'r') as file:\n",
        "    for line in file:\n",
        "        print(line)"
      ],
      "metadata": {
        "colab": {
          "base_uri": "https://localhost:8080/"
        },
        "id": "PCh9wPeQ5Z1J",
        "outputId": "754fe39f-6b5c-44bd-a105-24cf757bdb93"
      },
      "execution_count": 2,
      "outputs": [
        {
          "output_type": "stream",
          "name": "stdout",
          "text": [
            "Hello, this is a string written to the file!\n"
          ]
        }
      ]
    },
    {
      "cell_type": "code",
      "source": [
        "#Q3. How would you handle a case where the file doesn't exist while trying to open it for reading.\n",
        "'''\n",
        "ANSWER\n",
        "'''\n",
        "try:\n",
        "    with open('example.txt', 'r') as file:\n",
        "        content = file.read()\n",
        "        print(content)\n",
        "except FileNotFoundError:\n",
        "    print(\"The file does not exist!\")"
      ],
      "metadata": {
        "colab": {
          "base_uri": "https://localhost:8080/"
        },
        "id": "l2pj8ZVq5qpF",
        "outputId": "89415a13-9cec-4c50-f68c-b479d313f929"
      },
      "execution_count": 3,
      "outputs": [
        {
          "output_type": "stream",
          "name": "stdout",
          "text": [
            "Hello, this is a string written to the file!\n"
          ]
        }
      ]
    },
    {
      "cell_type": "code",
      "source": [
        "#Q4. Write a Python script that reads from one file and writes its content to another file.\n",
        "'''\n",
        "answer\n",
        "'''\n",
        "with open('example.txt', 'r') as file1:\n",
        "    content = file1.read()\n",
        "    with open('example2.txt', 'w') as file2:\n",
        "        file2.write(content)"
      ],
      "metadata": {
        "id": "IcHXC0286Bls"
      },
      "execution_count": 4,
      "outputs": []
    },
    {
      "cell_type": "code",
      "source": [
        "#Q5. How would you catch and handle division by zero error in Python?\n",
        "'''\n",
        "answer\n",
        "'''\n",
        "try:\n",
        "    result = 10 / 0\n",
        "except ZeroDivisionError:\n",
        "    print(\"Error: Division by zero is not allowed!\")\n",
        "else:\n",
        "    print(\"The result is:\", result)"
      ],
      "metadata": {
        "colab": {
          "base_uri": "https://localhost:8080/"
        },
        "id": "oLpBkJvS6QXY",
        "outputId": "3bb8b16e-bb25-4fc3-9e30-6a8933222f00"
      },
      "execution_count": 5,
      "outputs": [
        {
          "output_type": "stream",
          "name": "stdout",
          "text": [
            "Error: Division by zero is not allowed!\n"
          ]
        }
      ]
    },
    {
      "cell_type": "code",
      "source": [
        "#Q6. Write a Python program that logs an error message to a log file when a division by zero exception occurs.\n",
        "'''\n",
        "answer\n",
        "'''\n",
        "import logging\n",
        "\n",
        "logging.basicConfig(filename='error_log.txt', level=logging.ERROR,\n",
        "                    format='%(asctime)s - %(levelname)s - %(message)s')\n",
        "\n",
        "try:\n",
        "    result = 10 / 0\n",
        "except ZeroDivisionError as e:\n",
        "    logging.error(\"Attempted division by zero: %s\", e)\n"
      ],
      "metadata": {
        "colab": {
          "base_uri": "https://localhost:8080/"
        },
        "id": "yVUaTAQS6kHY",
        "outputId": "79b575c5-8c03-40af-f2d0-57fdb25f88d5"
      },
      "execution_count": 7,
      "outputs": [
        {
          "output_type": "stream",
          "name": "stderr",
          "text": [
            "ERROR:root:Attempted division by zero: division by zero\n"
          ]
        }
      ]
    },
    {
      "cell_type": "code",
      "source": [
        "#Q7. How do you log information at different levels (INFO, ERROR, WARNING) in Python using the logging module?\n",
        "'''\n",
        "answer\n",
        "'''\n",
        "import logging\n",
        "\n",
        "logging.basicConfig(filename='log_file.txt', level=logging.INFO,\n",
        "                    format='%(asctime)s - %(levelname)s - %(message)s')\n",
        "\n",
        "logging.info(\"This is an info message.\")\n",
        "logging.error(\"This is an error message.\")\n",
        "logging.warning(\"This is a warning message.\")\n"
      ],
      "metadata": {
        "colab": {
          "base_uri": "https://localhost:8080/"
        },
        "id": "9dEvdOPO6sV-",
        "outputId": "01a875f5-98fc-4d7d-abae-49d920b616fc"
      },
      "execution_count": 10,
      "outputs": [
        {
          "output_type": "stream",
          "name": "stderr",
          "text": [
            "ERROR:root:This is an error message.\n",
            "WARNING:root:This is a warning message.\n"
          ]
        }
      ]
    },
    {
      "cell_type": "code",
      "source": [
        "#Q8. Write a program to handle a file opening error using exception handling.\n",
        "'''\n",
        "answer\n",
        "'''\n",
        "try:\n",
        "    with open('nonexistent_file.txt', 'r') as file:\n",
        "        content = file.read()\n",
        "        print(content)\n",
        "except FileNotFoundError:\n",
        "    print(\"Error: The file does not exist!\")\n",
        "except IOError:\n",
        "    print(\"Error: There was an issue with opening or reading the file!\")\n",
        ""
      ],
      "metadata": {
        "colab": {
          "base_uri": "https://localhost:8080/"
        },
        "id": "OG_1Wh0x7CVY",
        "outputId": "d46765a9-40ae-4565-ea5c-7758aa890c44"
      },
      "execution_count": 11,
      "outputs": [
        {
          "output_type": "stream",
          "name": "stdout",
          "text": [
            "Error: The file does not exist!\n"
          ]
        }
      ]
    },
    {
      "cell_type": "code",
      "source": [
        "#Q9. How can you read a file line by line and store its content in a list in Python?\n",
        "'''\n",
        "answer\n",
        "'''\n",
        "with open('example.txt', 'r') as file:\n",
        "    lines = file.readlines()\n",
        "    print(lines)"
      ],
      "metadata": {
        "colab": {
          "base_uri": "https://localhost:8080/"
        },
        "id": "lh3zv2y-7d_1",
        "outputId": "4c528e1a-0ab3-473d-8da2-7d6c32141ded"
      },
      "execution_count": 12,
      "outputs": [
        {
          "output_type": "stream",
          "name": "stdout",
          "text": [
            "['Hello, this is a string written to the file!']\n"
          ]
        }
      ]
    },
    {
      "cell_type": "code",
      "source": [
        "#Q10. How can you append data to an existing file in Python?\n",
        "'''\n",
        "answer\n",
        "'''\n",
        "with open('example.txt', 'a') as file:\n",
        "    file.write(\"\\nThis is a new line appended to the file!\")"
      ],
      "metadata": {
        "id": "Y6YTVMm97k0P"
      },
      "execution_count": 13,
      "outputs": []
    },
    {
      "cell_type": "code",
      "source": [
        "#Q11. Write a Python program that uses a try-except block to handle an error when attempting to access a dictionary key that doesn't exist.\n",
        "'''\n",
        "answer\n",
        "'''\n",
        "my_dict = {'a': 1, 'b': 2, 'c': 3}\n",
        "\n",
        "try:\n",
        "    value = my_dict['d']\n",
        "except KeyError:\n",
        "    print(\"Error: The key does not exist in the dictionary!\")\n",
        "else:\n",
        "    print"
      ],
      "metadata": {
        "colab": {
          "base_uri": "https://localhost:8080/"
        },
        "id": "GWs9_GYy7tCB",
        "outputId": "eb6e74ff-d62b-437a-8a1c-38ce19e7a565"
      },
      "execution_count": 14,
      "outputs": [
        {
          "output_type": "stream",
          "name": "stdout",
          "text": [
            "Error: The key does not exist in the dictionary!\n"
          ]
        }
      ]
    },
    {
      "cell_type": "code",
      "source": [
        "#Q12. Write a program that demonstrates using multiple except blocks to handle different types of exceptions.\n",
        "'''\n",
        "answer\n",
        "'''\n",
        "try:\n",
        "    result = 10 / 0\n",
        "except ZeroDivisionError:\n",
        "    print(\"Error: Division by zero is not allowed!\")\n",
        "except TypeError:\n",
        "    print(\"Error: Invalid data type!\")\n",
        "else:\n",
        "    print(\"The result is:\", result)\n",
        ""
      ],
      "metadata": {
        "colab": {
          "base_uri": "https://localhost:8080/"
        },
        "id": "O7tSlELD74nU",
        "outputId": "bd16a937-3de1-4e4d-84f8-c0b2efb92f72"
      },
      "execution_count": 15,
      "outputs": [
        {
          "output_type": "stream",
          "name": "stdout",
          "text": [
            "Error: Division by zero is not allowed!\n"
          ]
        }
      ]
    },
    {
      "cell_type": "code",
      "source": [
        "#Q13. How would you check if a file exists before attempting to read it in Python.\n",
        "'''\n",
        "answer\n",
        "'''\n",
        "import os\n",
        "\n",
        "file_path = 'example.txt'\n",
        "if os.path.exists(file_path):\n",
        "    with open(file_path, 'r') as file:\n",
        "        content = file.read()\n",
        "        print(content)\n",
        "else:\n",
        "    print(f\"The file '{file_path}' does not exist.\")"
      ],
      "metadata": {
        "colab": {
          "base_uri": "https://localhost:8080/"
        },
        "id": "3_ZnAOvC7_-f",
        "outputId": "934e9ad4-7fe0-4175-8ee8-e9c288cecdfa"
      },
      "execution_count": 16,
      "outputs": [
        {
          "output_type": "stream",
          "name": "stdout",
          "text": [
            "Hello, this is a string written to the file!\n",
            "This is a new line appended to the file!\n"
          ]
        }
      ]
    },
    {
      "cell_type": "code",
      "source": [
        "#Q14. Write a program that uses the logging module to log both informational and error messages.\n",
        "'''\n",
        "answer\n",
        "'''\n",
        "import logging\n",
        "\n",
        "logging.basicConfig(filename='app_log.txt',\n",
        "                    level=logging.DEBUG,\n",
        "                    format='%(asctime)s - %(levelname)s - %(message)s')\n",
        "\n",
        "logging.info(\"This is an informational message.\")\n",
        "\n",
        "try:\n",
        "    result = 10 / 0\n",
        "except ZeroDivisionError as e:\n",
        "    logging.error(\"Error occurred: %s\", e)\n",
        "\n",
        "logging.info(\"Program execution continues after the error.\")"
      ],
      "metadata": {
        "colab": {
          "base_uri": "https://localhost:8080/"
        },
        "id": "KaRhC_ib8Sep",
        "outputId": "355614ff-adb8-43a7-d99c-8a024a38f15b"
      },
      "execution_count": 17,
      "outputs": [
        {
          "output_type": "stream",
          "name": "stderr",
          "text": [
            "ERROR:root:Error occurred: division by zero\n"
          ]
        }
      ]
    },
    {
      "cell_type": "code",
      "source": [
        "#Q15. Write a Python program that prints the content of a file and handles the case when the file is empty.\n",
        "'''\n",
        "answer\n",
        "'''\n",
        "try:\n",
        "    # Open the file in read mode\n",
        "    with open('example.txt', 'r') as file:\n",
        "        content = file.read()\n",
        "\n",
        "        # Check if the file is empty\n",
        "        if not content:\n",
        "            print(\"The file is empty.\")\n",
        "        else:\n",
        "            print(\"File content:\")\n",
        "            print(content)\n",
        "except FileNotFoundError:\n",
        "    print(\"The file does not exist.\")\n",
        "except IOError:\n",
        "    print(\"There was an error while reading the file.\")"
      ],
      "metadata": {
        "colab": {
          "base_uri": "https://localhost:8080/"
        },
        "id": "m9IPJwT58ltO",
        "outputId": "5687569b-6f21-4eae-c91b-f2659269ed07"
      },
      "execution_count": 18,
      "outputs": [
        {
          "output_type": "stream",
          "name": "stdout",
          "text": [
            "File content:\n",
            "Hello, this is a string written to the file!\n",
            "This is a new line appended to the file!\n"
          ]
        }
      ]
    },
    {
      "cell_type": "code",
      "source": [
        "#Q16. Demonstrate how to use memory profiling to check the memory usage of a small program.\n",
        "'''\n",
        "answer\n",
        "'''\n",
        "from memory_profiler import profile\n",
        "\n",
        "@profile\n",
        "def my_function():\n",
        "    a = [i for i in range(10000)]  # Creates a list of 10,000 integers\n",
        "    b = [i * 2 for i in range(10000)]  # Creates another list\n",
        "    c = [i + b[i] for i in range(10000)]  # Creates a third list based on a and b\n",
        "    return c\n",
        "\n",
        "if __name__ == \"__main__\":\n",
        "    my_function()"
      ],
      "metadata": {
        "colab": {
          "base_uri": "https://localhost:8080/",
          "height": 397
        },
        "id": "0yiqKLZq872C",
        "outputId": "10026434-6297-41bb-f244-b669c821ec90"
      },
      "execution_count": 19,
      "outputs": [
        {
          "output_type": "error",
          "ename": "ModuleNotFoundError",
          "evalue": "No module named 'memory_profiler'",
          "traceback": [
            "\u001b[0;31m---------------------------------------------------------------------------\u001b[0m",
            "\u001b[0;31mModuleNotFoundError\u001b[0m                       Traceback (most recent call last)",
            "\u001b[0;32m<ipython-input-19-feba035d7cfc>\u001b[0m in \u001b[0;36m<cell line: 0>\u001b[0;34m()\u001b[0m\n\u001b[1;32m      3\u001b[0m \u001b[0manswer\u001b[0m\u001b[0;34m\u001b[0m\u001b[0;34m\u001b[0m\u001b[0m\n\u001b[1;32m      4\u001b[0m '''\n\u001b[0;32m----> 5\u001b[0;31m \u001b[0;32mfrom\u001b[0m \u001b[0mmemory_profiler\u001b[0m \u001b[0;32mimport\u001b[0m \u001b[0mprofile\u001b[0m\u001b[0;34m\u001b[0m\u001b[0;34m\u001b[0m\u001b[0m\n\u001b[0m\u001b[1;32m      6\u001b[0m \u001b[0;34m\u001b[0m\u001b[0m\n\u001b[1;32m      7\u001b[0m \u001b[0;34m@\u001b[0m\u001b[0mprofile\u001b[0m\u001b[0;34m\u001b[0m\u001b[0;34m\u001b[0m\u001b[0m\n",
            "\u001b[0;31mModuleNotFoundError\u001b[0m: No module named 'memory_profiler'",
            "",
            "\u001b[0;31m---------------------------------------------------------------------------\u001b[0;32m\nNOTE: If your import is failing due to a missing package, you can\nmanually install dependencies using either !pip or !apt.\n\nTo view examples of installing some common dependencies, click the\n\"Open Examples\" button below.\n\u001b[0;31m---------------------------------------------------------------------------\u001b[0m\n"
          ],
          "errorDetails": {
            "actions": [
              {
                "action": "open_url",
                "actionText": "Open Examples",
                "url": "/notebooks/snippets/importing_libraries.ipynb"
              }
            ]
          }
        }
      ]
    },
    {
      "cell_type": "code",
      "source": [
        "#Q17. Write a Python program to create and write a list of numbers to a file, one number per line.\n",
        "'''\n",
        "ANSWER\n",
        "'''\n",
        "numbers = [1, 2, 3, 4, 5, 6, 7, 8, 9, 10]\n",
        "\n",
        "with open('numbers.txt', 'w') as file:\n",
        "    for number in numbers:\n",
        "        file.write(f\"{number}\\n\")\n",
        "\n",
        "print(\"Numbers have been written to the file.\")"
      ],
      "metadata": {
        "colab": {
          "base_uri": "https://localhost:8080/"
        },
        "id": "0aacTW4q93Sp",
        "outputId": "36eadb86-29d8-4244-a23a-0d5b3b91379b"
      },
      "execution_count": 20,
      "outputs": [
        {
          "output_type": "stream",
          "name": "stdout",
          "text": [
            "Numbers have been written to the file.\n"
          ]
        }
      ]
    },
    {
      "cell_type": "code",
      "source": [
        "#Q18. How would you implement a basic logging setup that logs to a file with rotation after 1MB\n",
        "'''\n",
        "ANSWER\n",
        "'''\n",
        "import logging\n",
        "from logging.handlers import RotatingFileHandler\n",
        "\n",
        "logger = logging.getLogger('my_logger')\n",
        "logger.setLevel(logging.INFO)\n",
        "\n",
        "handler = RotatingFileHandler(\n",
        "    'my_log_file.log',\n",
        "    maxBytes=1 * 1024 * 1024,\n",
        "    backupCount=3\n",
        ")\n",
        "\n",
        "formatter = logging.Formatter('%(asctime)s - %(levelname)s - %(message)s')\n",
        "handler.setFormatter(formatter)\n",
        "\n",
        "logger.addHandler(handler)\n",
        "\n",
        "logger.info(\"This is an info message.\")\n",
        "logger.warning(\"This is a warning message.\")\n",
        "logger.error(\"This is an error message.\")\n",
        "\n",
        "for i in range(1000):\n",
        "    logger.debug(f\"Debug message {i}\")\n"
      ],
      "metadata": {
        "colab": {
          "base_uri": "https://localhost:8080/"
        },
        "id": "Tv5zJ9Qn-Pc6",
        "outputId": "4f1cd121-3acf-43d7-a5d3-ef0c3248d17e"
      },
      "execution_count": 23,
      "outputs": [
        {
          "output_type": "stream",
          "name": "stderr",
          "text": [
            "INFO:my_logger:This is an info message.\n",
            "WARNING:my_logger:This is a warning message.\n",
            "ERROR:my_logger:This is an error message.\n"
          ]
        }
      ]
    },
    {
      "cell_type": "code",
      "source": [
        "#Q19. Write a program that handles both IndexError and KeyError using a try-except block.\n",
        "'''\n",
        "ANSWER\n",
        "'''\n",
        "def handle_errors():\n",
        "    my_list = [1, 2, 3]\n",
        "    my_dict = {'a': 1, 'b': 2, 'c': 3}\n",
        "\n",
        "    try:\n",
        "        print(my_list[5])\n",
        "\n",
        "        print(my_dict['d'])\n",
        "\n",
        "    except IndexError as ie:\n",
        "        print(f\"IndexError: {ie} - An invalid index was accessed in the list.\")\n",
        "\n",
        "    except KeyError as ke:\n",
        "        print(f\"KeyError: {ke} - The specified key does not exist in the dictionary.\")\n",
        "\n",
        "handle_errors()"
      ],
      "metadata": {
        "colab": {
          "base_uri": "https://localhost:8080/"
        },
        "id": "NwKaCsxi_EHw",
        "outputId": "d6b60497-35b7-402e-8437-1f499fd514f5"
      },
      "execution_count": 24,
      "outputs": [
        {
          "output_type": "stream",
          "name": "stdout",
          "text": [
            "IndexError: list index out of range - An invalid index was accessed in the list.\n"
          ]
        }
      ]
    },
    {
      "cell_type": "code",
      "source": [
        "#Q20. How would you open a file and read its contents using a context manager in Python.\n",
        "'''\n",
        "ANSWER\n",
        "'''\n",
        "with open('example.txt', 'r') as file:\n",
        "    content = file.read()\n",
        "\n",
        "print(content)"
      ],
      "metadata": {
        "colab": {
          "base_uri": "https://localhost:8080/"
        },
        "id": "mLdELsJhAFx7",
        "outputId": "00ee7c11-00a8-483f-c796-bb13e87ab8be"
      },
      "execution_count": 26,
      "outputs": [
        {
          "output_type": "stream",
          "name": "stdout",
          "text": [
            "Hello, this is a string written to the file!\n",
            "This is a new line appended to the file!\n"
          ]
        }
      ]
    },
    {
      "cell_type": "code",
      "source": [
        "#Q21. Write a Python program that reads a file and prints the number of occurrences of a specific word.\n",
        "'''\n",
        "ANSWER\n",
        "'''\n",
        "def count_word_occurrences(file_path, target_word):\n",
        "    try:\n",
        "        with open(file_path, 'r') as file:\n",
        "            content = file.read()\n",
        "\n",
        "        content = content.lower()\n",
        "\n",
        "        words = content.split()\n",
        "\n",
        "        word_count = words.count(target_word.lower())\n",
        "\n",
        "        print(f\"The word '{target_word}' appears {word_count} times in the file.\")\n",
        "\n",
        "    except FileNotFoundError:\n",
        "        print(f\"The file '{file_path}' does not exist.\")\n",
        "    except IOError:\n",
        "        print(f\"An error occurred while reading the file '{file_path}'.\")\n",
        "file_path = 'example.txt'\n",
        "target_word = 'python'\n",
        "count_word_occurrences(file_path, target_word)"
      ],
      "metadata": {
        "colab": {
          "base_uri": "https://localhost:8080/"
        },
        "id": "ys9P6u2PAQDm",
        "outputId": "c01df4b5-e9d7-4b88-c5a8-fc7c8851feea"
      },
      "execution_count": 27,
      "outputs": [
        {
          "output_type": "stream",
          "name": "stdout",
          "text": [
            "The word 'python' appears 0 times in the file.\n"
          ]
        }
      ]
    },
    {
      "cell_type": "code",
      "source": [
        "#Q22. How can you check if a file is empty before attempting to read its contents?\n",
        "'''\n",
        "ANSWER\n",
        "'''\n",
        "import os\n",
        "\n",
        "def check_file_empty(file_path):\n",
        "    file_size = os.stat(file_path).st_size\n",
        "\n",
        "    if file_size == 0:\n",
        "        print(\"The file is empty.\")\n",
        "        return True\n",
        "    else:\n",
        "        print(\"The file is not empty.\")\n",
        "        return False\n",
        "\n",
        "def read_file(file_path):\n",
        "    if not check_file_empty(file_path):\n",
        "        with open(file_path, 'r') as file:\n",
        "            content = file.read()\n",
        "            print(content)\n",
        "\n",
        "file_path = 'example.txt'\n",
        "read_file(file_path)"
      ],
      "metadata": {
        "colab": {
          "base_uri": "https://localhost:8080/"
        },
        "id": "uNvph8xEAyCR",
        "outputId": "18b04f12-9b26-4c74-c16d-8cdf5e9f3de9"
      },
      "execution_count": 28,
      "outputs": [
        {
          "output_type": "stream",
          "name": "stdout",
          "text": [
            "The file is not empty.\n",
            "Hello, this is a string written to the file!\n",
            "This is a new line appended to the file!\n"
          ]
        }
      ]
    },
    {
      "cell_type": "code",
      "source": [
        "#Q23. Write a Python program that writes to a log file when an error occurs during file handling.\n",
        "'''\n",
        "ANSWER\n",
        "'''\n",
        "import logging\n",
        "\n",
        "logging.basicConfig(\n",
        "    filename='file_handling.log',\n",
        "    level=logging.ERROR,\n",
        "    format='%(asctime)s - %(levelname)s - %(message)s'\n",
        ")\n",
        "\n",
        "def read_file(file_path):\n",
        "    try:\n",
        "        with open(file_path, 'r') as file:\n",
        "            content = file.read()\n",
        "            print(content)\n",
        "\n",
        "    except FileNotFoundError as e:\n",
        "        logging.error(f\"FileNotFoundError: {e} - The file {file_path} does not exist.\")\n",
        "        print(f\"Error: {e}. Check the log file for more details.\")\n",
        "\n",
        "    except IOError as e:\n",
        "        logging.error(f\"IOError: {e} - There was an issue reading the file {file_path}.\")\n",
        "        print(f\"Error: {e}. Check the log file for more details.\")\n",
        "\n",
        "    except Exception as e:\n",
        "        logging.error(f\"Unexpected error: {e}\")\n",
        "        print(f\"Unexpected error: {e}. Check the log file for more details.\")\n",
        "\n",
        "file_path = 'non_existent_file.txt'\n",
        "read_file(file_path)"
      ],
      "metadata": {
        "colab": {
          "base_uri": "https://localhost:8080/"
        },
        "id": "0GHP3VBiBJDA",
        "outputId": "f2a3c749-ad66-4b6a-a901-0562881f5035"
      },
      "execution_count": 29,
      "outputs": [
        {
          "output_type": "stream",
          "name": "stderr",
          "text": [
            "ERROR:root:FileNotFoundError: [Errno 2] No such file or directory: 'non_existent_file.txt' - The file non_existent_file.txt does not exist.\n"
          ]
        },
        {
          "output_type": "stream",
          "name": "stdout",
          "text": [
            "Error: [Errno 2] No such file or directory: 'non_existent_file.txt'. Check the log file for more details.\n"
          ]
        }
      ]
    },
    {
      "cell_type": "code",
      "source": [],
      "metadata": {
        "id": "AVFsk0FBBzp6"
      },
      "execution_count": null,
      "outputs": []
    }
  ]
}