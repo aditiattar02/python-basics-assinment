{
  "nbformat": 4,
  "nbformat_minor": 0,
  "metadata": {
    "colab": {
      "provenance": []
    },
    "kernelspec": {
      "name": "python3",
      "display_name": "Python 3"
    },
    "language_info": {
      "name": "python"
    }
  },
  "cells": [
    {
      "cell_type": "code",
      "execution_count": null,
      "metadata": {
        "id": "Dwv02Dd4MFWk"
      },
      "outputs": [],
      "source": []
    },
    {
      "cell_type": "markdown",
      "source": [
        "# **OOPS ASSIGNMENT (THEORY PART)**\n",
        "\n",
        "Q1. What is Object-Oriented Programming (OOP)?\n",
        "  - Object-oriented programming (OOP) in Python is a programming model that uses objects and classes to create programs.\n",
        "\n",
        "Q2. What is a class in OOP?\n",
        "  - A class is a code template for creating objects.Class are blue print/template for creating an object.\n",
        "\n",
        "Q3. What is an object in OOP?\n",
        "  - an object is an instance of a class that contains data and behavior. Objects are used to model real-world entities.\n",
        "\n",
        "Q4.  What is the difference between abstraction and encapsulation?\n",
        "  - Abstraction is the process of simplifying complex systems by hiding unnecessary details, while encapsulation is the process of restricting access to data and methods within an object.\n",
        "\n",
        "Q5. What are dunder methods in Python?\n",
        "  - Dunder methods, also known as magic methods or special methods, are predefined methods in Python that allow you to customize the behavior of your objects. They are recognized by the double underscore format, such as __init__ or __str__.\n",
        "\n",
        "Q6. Explain the concept of inheritance in OOP?\n",
        "  - Inheritance in object-oriented programming (OOP) is a way to create new classes based on existing ones. The new classes, called subclasses, inherit the properties and behaviors of the existing classes, called superclasses.\n",
        "\n",
        "Q7. What is polymorphism in OOP?\n",
        "  - In Polymorphism, poly means many and morphism means form/states.\n",
        "  - Polymorphism in object-oriented programming (OOP) is the ability of an entity to have more than one form. It allows a single interface to be used for different types of data, and for different objects to respond differently to the same message.\n",
        "\n",
        "Q8. How is encapsulation achieved in Python?\n",
        "  - Encapsulation in Python is achieved by using access modifiers to limit access to a class's variables and methods. This is done by bundling the data and methods into a single unit, or class.we achieve this by using single and double underscores.\n",
        "\n",
        "Q9. What is a constructor in Python?\n",
        "  - A constructor in Python is a special method that initializes an object when it's created. Constructors are a fundamental part of object-oriented programming.\n",
        "\n",
        "Q10. What are class and static methods in Python?\n",
        "  - A class method can access or modify the class state while a static method can't access or modify it. In general, static methods know nothing about the class state. They are utility-type methods that take some parameters and work upon those parameters. On the other hand class methods must have class as a parameter.\n",
        "\n",
        "Q11. What is method overloading in Python?\n",
        "  - Method overloading in Python is the ability to define multiple methods with the same name but different parameters. This allows a single function to work with different input types or parameters.\n",
        "\n",
        "Q12. What is method overriding in OOP?\n",
        "  - Method overriding, in object-oriented programming, is a language feature that allows a subclass or child class to provide a specific implementation of a method that is already provided by one of its superclasses or parent classes.\n",
        "\n",
        "Q13. What is a property decorator in Python?\n",
        "  - The Python property decorator makes attributes in a class act like read-only properties. Essentially, it lets you access methods as if they were attributes, without needing to write parentheses.\n",
        "\n",
        "Q14. Why is polymorphism important in OOP?\n",
        "  - Polymorphism is an important feature of object-oriented programming (OOP) because it allows programmers to write more efficient code that is easier to maintain and extend.\n",
        "\n",
        "Q15. What is an abstract class in Python?\n",
        "  - An abstract class in Python is a class that can't be instantiated directly, but instead serves as a blueprint for other classes. Abstract classes are used to define methods and properties that subclasses must implement.\n",
        "\n",
        "Q16. What are the advantages of OOP?\n",
        "  - it allows developers to divide a complex software system into small, manageable objects.\n",
        "  - They can develop, test, and maintain these self-contained units independently.\n",
        "  - OOP uses encapsulation to hide complex code and protect internet protocols. This makes the code more secure and free of unintended data corruption.\n",
        "\n",
        "Q17. What is the difference between a class variable and an instance variable?\n",
        "  - In object-oriented programming, a class variable is shared among all instances of a class, while an instance variable is unique to each instance of a class.\n",
        "\n",
        "Q18. What is multiple inheritance in Python?\n",
        "  - Multiple inheritance in Python is when a class inherits properties from more than one parent class. This is a feature of object-oriented programming.\n",
        "\n",
        "Q19. Explain the purpose of ‘’__str__’ and ‘__repr__’ ‘ methods in Python?\n",
        "  - In Python, the __str__ method is used to provide a human-readable string representation of an object, typically for user-facing output like printing, while __repr__ aims to provide a more detailed, unambiguous representation of an object, primarily used for debugging and development purposes, where the goal is to potentially recreate the object from the string representation.\n",
        "\n",
        "Q20. What is the significance of the ‘super()’ function in Python?\n",
        "  - super() is a built-in function that allows access to methods and properties of a parent or superclass from a child or subclass. This is useful when working with inheritance in object-oriented programming.\n",
        "\n",
        "Q21.  What is the significance of the __del__ method in Python?\n",
        "  - The __del__ method is a special method in Python that is called when an object is about to be destroyed. It allows you to define specific cleanup actions that should be taken when an object is garbage collected.\n",
        "\n",
        "Q22. What is the difference between @staticmethod and @classmethod in Python?\n",
        "  - @classmethod\n",
        "This decorator binds a method to a class, rather than to an instance of the class. This allows the method to be called directly from the class, without needing to create an instance. The class is passed as the first argument to the method, which is represented by the variable cls.\n",
        "  - @staticmethod\n",
        "This decorator binds a method to a class, but not to an instance of the class. This means that the method can be called without an instance of the class. Static methods are independent of the class and its instances, and they don't rely on any class or instance data.\n",
        "\n",
        "Q23. How does polymorphism work in Python with inheritance?\n",
        "  - polymorphism, when used with inheritance, allows objects of different classes (usually related through inheritance) to be treated as the same type when a method is called, meaning the specific implementation of that method will be executed based on the actual object type, effectively providing \"many forms\" for the same operation; this is achieved primarily through \"method overriding\" where a child class redefines a method inherited from its parent class, allowing for customized behavior depending on the object being used.\n",
        "\n",
        "Q24. What is method chaining in Python OOP?\n",
        "  - method chaining is a technique where you call multiple methods on the same object consecutively in a single line of code, with each method returning the object itself, allowing you to chain further operations on the modified object without needing to store intermediate results in separate variables; essentially, it lets you write cleaner, more readable code by performing multiple actions on an object in a sequential manner.\n",
        "\n",
        "Q25. What is the purpose of the __call__ method in Python?\n",
        "  - the __call__ method allows you to create class instances that can be called like a function, essentially turning an object into a callable object, meaning you can use the object directly with parentheses to execute its defined behavior.\n",
        "\n",
        "  \n",
        "\n",
        "\n",
        "  \n",
        "   \n",
        "\n",
        "\n"
      ],
      "metadata": {
        "id": "SwGnarKPMMQn"
      }
    },
    {
      "cell_type": "code",
      "source": [
        "#OOPS ASSIGNMENT (PRACTICAL PART)\n",
        "\n",
        "#Q1.  Create a parent class Animal with a method speak() that prints a generic message. Create a child class Dog\n",
        "#that overrides the speak() method to print \"Bark!\".\n",
        "'''\n",
        "answer\n",
        "'''\n",
        "class Animal:\n",
        "    def speak(self):\n",
        "        print(\"Generic animal sound\")\n",
        "\n",
        "class Dog(Animal):\n",
        "    def speak(self):\n",
        "        print(\"Bark!\")\n",
        "\n",
        "Animal=Animal()\n",
        "Animal.speak()\n",
        "\n",
        "dog=Dog()\n",
        "dog.speak()"
      ],
      "metadata": {
        "colab": {
          "base_uri": "https://localhost:8080/"
        },
        "id": "Cvc7jgWHvsy6",
        "outputId": "e0e9b9d4-8559-4bf8-8bee-cdd08db5d24b"
      },
      "execution_count": 3,
      "outputs": [
        {
          "output_type": "stream",
          "name": "stdout",
          "text": [
            "Generic animal sound\n",
            "Bark!\n"
          ]
        }
      ]
    },
    {
      "cell_type": "code",
      "source": [
        "#Q2.Write a program to create an abstract class Shape with a method area(). Derive classes Circle and Rectangle\n",
        "#from it and implement the area() method in both.\n",
        "'''\n",
        "ANSWER\n",
        "'''\n",
        "from abc import ABC, abstractmethod\n",
        "\n",
        "class Shape(ABC):\n",
        "    @abstractmethod\n",
        "    def area(self):\n",
        "        pass\n",
        "class circle(Shape):\n",
        "    def area(self,radius):\n",
        "        return 3.14*radius*radius\n",
        "class rectangle(Shape):\n",
        "    def area(self,length,width):\n",
        "        return length*width\n",
        "\n",
        "circle=circle()\n",
        "print(circle.area(5))\n",
        "\n",
        "rectangle=rectangle()\n",
        "print(rectangle.area(4,5))"
      ],
      "metadata": {
        "colab": {
          "base_uri": "https://localhost:8080/"
        },
        "id": "7NRYzoekwtjh",
        "outputId": "0a554508-0b25-4257-926b-3421bd31b033"
      },
      "execution_count": 4,
      "outputs": [
        {
          "output_type": "stream",
          "name": "stdout",
          "text": [
            "78.5\n",
            "20\n"
          ]
        }
      ]
    },
    {
      "cell_type": "code",
      "source": [
        "#Q3. Implement a multi-level inheritance scenario where a class Vehicle has an attribute type. Derive a class Car\n",
        "#and further derive a class ElectricCar that adds a battery attribute.\n",
        "'''\n",
        "ANSWER\n",
        "'''\n",
        "class Vehicle:\n",
        "  def __init__(self, vehicle_type):\n",
        "    self.vehicle_type = vehicle_type\n",
        "  def display_type(self):\n",
        "    print(f\"This is a {self.vehicle_type}.\")\n",
        "\n",
        "class car(Vehicle):\n",
        "  def __init__(self, vehicle_type, brand):\n",
        "    super().__init__(vehicle_type)\n",
        "    self.brand = brand\n",
        "\n",
        "  def display_brand(self):\n",
        "    print(f\"This is a {self.brand} car.\")\n",
        "\n",
        "class ElectricCar(car):\n",
        "  def __init__(self, vehicle_type, brand, battery_capacity):\n",
        "    super().__init__(vehicle_type, brand)\n",
        "    self.battery_capacity = battery_capacity\n",
        "\n",
        "  def display_battery(self):\n",
        "    print(f\"This car has a {self.battery_capacity} kWh battery.\")\n",
        "\n",
        "electric_car = ElectricCar(\"Electric Car\", \"Tesla\", 75)\n",
        "electric_car.display_type()\n",
        "electric_car.display_brand()\n",
        "electric_car.display_battery()\n",
        "\n"
      ],
      "metadata": {
        "colab": {
          "base_uri": "https://localhost:8080/"
        },
        "id": "w4RN_oBUx9ub",
        "outputId": "a2dff63d-d659-4aab-aa56-7eeadc0bbdfe"
      },
      "execution_count": 6,
      "outputs": [
        {
          "output_type": "stream",
          "name": "stdout",
          "text": [
            "This is a Electric Car.\n",
            "This is a Tesla car.\n",
            "This car has a 75 kWh battery.\n"
          ]
        }
      ]
    },
    {
      "cell_type": "code",
      "source": [
        "#Q4.. Implement a multi-level inheritance scenario where a class Vehicle has an attribute type. Derive a class Car\n",
        "#and further derive a class ElectricCar that adds a battery attribute.\n",
        "'''\n",
        "answer\n",
        "'''\n",
        "class Vehicle:\n",
        "  def __init__(self, vehicle_type):\n",
        "    self.vehicle_type = vehicle_type\n",
        "  def display_type(self):\n",
        "    print(f\"This is a {self.vehicle_type}.\")\n",
        "\n",
        "class car(Vehicle):\n",
        "  def __init__(self, vehicle_type, brand):\n",
        "    super().__init__(vehicle_type)\n",
        "    self.brand = brand\n",
        "\n",
        "  def display_brand(self):\n",
        "    print(f\"This is a {self.brand} car.\")\n",
        "\n",
        "class ElectricCar(car):\n",
        "  def __init__(self, vehicle_type, brand, battery_capacity):\n",
        "    super().__init__(vehicle_type, brand)\n",
        "    self.battery_capacity = battery_capacity\n",
        "\n",
        "  def display_battery(self):\n",
        "    print(f\"This car has a {self.battery_capacity} kWh battery.\")\n",
        "\n",
        "electric_car = ElectricCar(\"Electric Car\", \"Tesla\", 75)\n",
        "electric_car.display_type()\n",
        "electric_car.display_brand()\n",
        "electric_car.display_battery()\n"
      ],
      "metadata": {
        "colab": {
          "base_uri": "https://localhost:8080/"
        },
        "id": "a6uyvBum0Ftj",
        "outputId": "35276dd7-59e1-4b12-eccd-316a9950fea5"
      },
      "execution_count": 7,
      "outputs": [
        {
          "output_type": "stream",
          "name": "stdout",
          "text": [
            "This is a Electric Car.\n",
            "This is a Tesla car.\n",
            "This car has a 75 kWh battery.\n"
          ]
        }
      ]
    },
    {
      "cell_type": "code",
      "source": [
        "#Q5.Write a program to demonstrate encapsulation by creating a class BankAccount with private attributes\n",
        "#balance and methods to deposit, withdraw, and check balance.\n",
        "'''\n",
        "answer\n",
        "'''\n",
        "class BankAccount:\n",
        "  def __init__(self, initial_balance=0):\n",
        "    self.__balance = initial_balance\n",
        "  def deposit(self, amount):\n",
        "    if amount > 0:\n",
        "      self.__balance += amount\n",
        "  def withdraw(self, amount):\n",
        "    if amount > 0 and amount <= self.__balance:\n",
        "      self.__balance -= amount\n",
        "  def check_balance(self):\n",
        "    return self.__balance\n",
        "\n",
        "account = BankAccount(1000)\n",
        "account.deposit(500)\n",
        "account.withdraw(200)\n",
        "print(account.check_balance())\n"
      ],
      "metadata": {
        "colab": {
          "base_uri": "https://localhost:8080/"
        },
        "id": "jhc_-aQ21EK7",
        "outputId": "0323f83e-8396-4751-8c25-4500b7de711a"
      },
      "execution_count": 8,
      "outputs": [
        {
          "output_type": "stream",
          "name": "stdout",
          "text": [
            "1300\n"
          ]
        }
      ]
    },
    {
      "cell_type": "code",
      "source": [
        "#Q6. Demonstrate runtime polymorphism using a method play() in a base class Instrument. Derive classes Guitar\n",
        "#and Piano that implement their own version of play().\n",
        "'''\n",
        "ANSWER\n",
        "'''\n",
        "class Instrument:\n",
        "  def play(self):\n",
        "    print(\"The instrument is being played\")\n",
        "\n",
        "class Guitar(Instrument):\n",
        "  def play(self):\n",
        "    print(\"Playing guitar\")\n",
        "\n",
        "class Piano(Instrument):\n",
        "  def play(self):\n",
        "    print(\"Playing piano\")\n",
        "\n",
        "guitar = Guitar()\n",
        "guitar.play()\n",
        "\n",
        "piano = Piano()\n",
        "piano.play()\n",
        "\n"
      ],
      "metadata": {
        "colab": {
          "base_uri": "https://localhost:8080/"
        },
        "id": "mUaZejly1zqd",
        "outputId": "e4af8e67-68ad-46fa-8d0f-f96de60a9ffc"
      },
      "execution_count": 10,
      "outputs": [
        {
          "output_type": "stream",
          "name": "stdout",
          "text": [
            "Playing guitar\n",
            "Playing piano\n"
          ]
        }
      ]
    },
    {
      "cell_type": "code",
      "source": [
        "#Q7.  Create a class MathOperations with a class method add_numbers() to add two numbers and a static\n",
        "#method subtract_numbers() to subtract two numbers.\n",
        "'''\n",
        "answer\n",
        "'''\n",
        "class MathOperations:\n",
        "  @classmethod\n",
        "  def add_numbers(cls, a, b):\n",
        "    return a + b\n",
        "  @staticmethod\n",
        "  def subtract_numbers(a, b):\n",
        "    return a - b\n",
        "\n",
        "print(MathOperations.add_numbers(5, 3))\n",
        "print(MathOperations.subtract_numbers(5, 3))"
      ],
      "metadata": {
        "colab": {
          "base_uri": "https://localhost:8080/"
        },
        "id": "GQtKobnf2ex2",
        "outputId": "7789666c-b104-4354-c0b3-49b687d0b2ae"
      },
      "execution_count": 11,
      "outputs": [
        {
          "output_type": "stream",
          "name": "stdout",
          "text": [
            "8\n",
            "2\n"
          ]
        }
      ]
    },
    {
      "cell_type": "code",
      "source": [
        "#Q8.  Implement a class Person with a class method to count the total number of persons created.\n",
        "'''\n",
        "answer\n",
        "'''\n",
        "class Person:\n",
        "  count = 0\n",
        "  def __init__(self, name):\n",
        "    self.name = name\n",
        "    Person.count += 1\n",
        "\n",
        "  @classmethod\n",
        "  def get_count(cls):\n",
        "    return cls.count\n",
        "\n",
        "person1 = Person(\"Aditi\")\n",
        "person2 = Person(\"Disha\")\n",
        "print(Person.get_count())"
      ],
      "metadata": {
        "colab": {
          "base_uri": "https://localhost:8080/"
        },
        "id": "HcMaKpZW29xE",
        "outputId": "18eb737e-8378-4b19-bac5-1c9fd7a44909"
      },
      "execution_count": 12,
      "outputs": [
        {
          "output_type": "stream",
          "name": "stdout",
          "text": [
            "2\n"
          ]
        }
      ]
    },
    {
      "cell_type": "code",
      "source": [
        "#Q9. Write a class Fraction with attributes numerator and denominator. Override the str method to display the\n",
        "#fraction as \"numerator/denominator\".\n",
        "'''\n",
        "answer\n",
        "'''\n",
        "class Fraction:\n",
        "  def __init__(self, numerator, denominator):\n",
        "    self.numerator = numerator\n",
        "    self.denominator = denominator\n",
        "  def __str__(self):\n",
        "    return f\"{self.numerator}/{self.denominator}\"\n",
        "fraction = Fraction(3, 4)\n",
        "print(fraction)\n"
      ],
      "metadata": {
        "colab": {
          "base_uri": "https://localhost:8080/"
        },
        "id": "SppqiwL13OQ3",
        "outputId": "6da603fe-d36c-42ef-eef7-09e8f3c3c4f3"
      },
      "execution_count": 13,
      "outputs": [
        {
          "output_type": "stream",
          "name": "stdout",
          "text": [
            "3/4\n"
          ]
        }
      ]
    },
    {
      "cell_type": "code",
      "source": [
        "#10.  Demonstrate operator overloading by creating a class Vector and overriding the add method to add two\n",
        "#vectors.\n",
        "'''\n",
        "answer\n",
        "'''\n",
        "class Vector:\n",
        "  def __init__(self, x, y):\n",
        "    self.x = x\n",
        "    self.y = y\n",
        "  def __add__(self, other):\n",
        "    return Vector(self.x + other.x, self.y + other.y)\n",
        "\n",
        "vector1 = Vector(1, 2)\n",
        "vector2 = Vector(3, 4)\n",
        "vector3 = vector1 + vector2\n",
        "print(vector3.x, vector3.y)"
      ],
      "metadata": {
        "colab": {
          "base_uri": "https://localhost:8080/"
        },
        "id": "PMmACfG13kOC",
        "outputId": "2b9c1ce6-7cd7-49d4-b9a9-ca26cc2481f8"
      },
      "execution_count": 14,
      "outputs": [
        {
          "output_type": "stream",
          "name": "stdout",
          "text": [
            "4 6\n"
          ]
        }
      ]
    },
    {
      "cell_type": "code",
      "source": [
        "#Q11. Create a class Person with attributes name and age. Add a method greet() that prints \"Hello, my name is\n",
        "#{name} and I am {age} years old.\"\n",
        "'''\n",
        "answer\n",
        "'''\n",
        "class Person:\n",
        "    def __init__(self,name,age):\n",
        "        self.name=name\n",
        "        self.age=age\n",
        "    def greet(self):\n",
        "        print(f\"Hello, my name is {self.name} and I am {self.age} years old.\")\n",
        "\n",
        "Person=Person(\"Aditi\",21)\n",
        "Person.greet()\n",
        "\n",
        "\n",
        "\n"
      ],
      "metadata": {
        "colab": {
          "base_uri": "https://localhost:8080/"
        },
        "id": "PDza2ufv36f4",
        "outputId": "8ef8f1b8-1bca-42cb-e768-2739c7151ed1"
      },
      "execution_count": 16,
      "outputs": [
        {
          "output_type": "stream",
          "name": "stdout",
          "text": [
            "Hello, my name is Aditi and I am 21 years old.\n"
          ]
        }
      ]
    },
    {
      "cell_type": "code",
      "source": [
        "#Q12.  Implement a class Student with attributes name and grades. Create a method average_grade() to compute\n",
        "#the average of the grades.\n",
        "'''\n",
        "answer\n",
        "'''\n",
        "class Student:\n",
        "  def __init__(self, name, grades):\n",
        "    self.name = name\n",
        "    self.grades = grades\n",
        "  def average_grade(self):\n",
        "    return sum(self.grades) / len(self.grades)\n",
        "\n",
        "student = Student(\"Aditi\", [90, 85, 95])\n",
        "print(student.average_grade())"
      ],
      "metadata": {
        "colab": {
          "base_uri": "https://localhost:8080/"
        },
        "id": "BJzMdBin4Qqw",
        "outputId": "15e6c756-19b3-4ddf-a744-466d8e414a32"
      },
      "execution_count": 17,
      "outputs": [
        {
          "output_type": "stream",
          "name": "stdout",
          "text": [
            "90.0\n"
          ]
        }
      ]
    },
    {
      "cell_type": "code",
      "source": [
        "#Q13.  Create a class Rectangle with methods set_dimensions() to set the dimensions and area() to calculate the\n",
        "#area.\n",
        "'''\n",
        "answer\n",
        "'''\n",
        "class Rectangle:\n",
        "  def __init__(self):\n",
        "    self.length = 0\n",
        "    self.width = 0\n",
        "  def set_dimensions(self, length, width):\n",
        "    self.length = length\n",
        "    self.width = width\n",
        "  def area(self):\n",
        "    return self.length * self.width\n",
        "rectangle = Rectangle()\n",
        "rectangle.set_dimensions(5, 10)\n",
        "print(rectangle.area())"
      ],
      "metadata": {
        "colab": {
          "base_uri": "https://localhost:8080/"
        },
        "id": "0gEQSV4B45ut",
        "outputId": "3c43edc1-16c3-4701-e55c-979fd2cdb43e"
      },
      "execution_count": 18,
      "outputs": [
        {
          "output_type": "stream",
          "name": "stdout",
          "text": [
            "50\n"
          ]
        }
      ]
    },
    {
      "cell_type": "code",
      "source": [
        "#Q14.Create a class Employee with a method calculate_salary() that computes the salary based on hours worked\n",
        "#and hourly rate. Create a derived class Manager that adds a bonus to the salary.\n",
        "'''\n",
        "answer\n",
        "'''\n",
        "class Employee:\n",
        "  def __init__(self, name, hourly_rate):\n",
        "    self.name = name\n",
        "    self.hourly_rate = hourly_rate\n",
        "  def calculate_salary(self, hours_worked):\n",
        "    return hours_worked * self.hourly_rate\n",
        "\n",
        "class Manager(Employee):\n",
        "  def __init__(self, name, hourly_rate, bonus):\n",
        "    super().__init__(name, hourly_rate)\n",
        "    self.bonus = bonus\n",
        "  def calculate_salary(self, hours_worked):\n",
        "    return\n",
        "    super().calculate_salary(hours_worked) + self.bonus\n",
        "\n",
        "employee = Employee(\"Aditi\", 10)\n",
        "print(employee.calculate_salary(40))\n",
        "\n",
        "\n"
      ],
      "metadata": {
        "colab": {
          "base_uri": "https://localhost:8080/"
        },
        "id": "dif92hBt5Hl_",
        "outputId": "49f18f48-11b1-41ff-832f-a55827c08ea9"
      },
      "execution_count": 20,
      "outputs": [
        {
          "output_type": "stream",
          "name": "stdout",
          "text": [
            "400\n"
          ]
        }
      ]
    },
    {
      "cell_type": "code",
      "source": [
        "#Q15. Create a class Product with attributes name, price, and quantity. Implement a method total_price() that\n",
        "#calculates the total price of the product.\n",
        "'''\n",
        "answer\n",
        "'''\n",
        "class Product:\n",
        "  def __init__(self, name, price, quantity):\n",
        "    self.name = name\n",
        "    self.price = price\n",
        "    self.quantity = quantity\n",
        "  def total_price(self):\n",
        "    return self.price * self.quantity\n",
        "\n",
        "product = Product(\"Laptop\", 1000, 2)\n",
        "print(product.total_price())"
      ],
      "metadata": {
        "colab": {
          "base_uri": "https://localhost:8080/"
        },
        "id": "zz1HuuVF5YKj",
        "outputId": "3819966d-78ce-4080-e2cb-39c4f2dc6af5"
      },
      "execution_count": 21,
      "outputs": [
        {
          "output_type": "stream",
          "name": "stdout",
          "text": [
            "2000\n"
          ]
        }
      ]
    },
    {
      "cell_type": "code",
      "source": [
        "#Q16. Create a class Animal with an abstract method sound(). Create two derived classes Cow and Sheep that\n",
        "#implement the sound() method.\n",
        "'''\n",
        "answer\n",
        "'''\n",
        "from abc import ABC, abstractmethod\n",
        "\n",
        "class Animal(ABC):\n",
        "  @abstractmethod\n",
        "  def sound(self):\n",
        "    pass\n",
        "\n",
        "class Cow(Animal):\n",
        "  def sound(self):\n",
        "    print(\"Moo!\")\n",
        "\n",
        "class Sheep(Animal):\n",
        "  def sound(self):\n",
        "    print(\"Baa!\")\n",
        "\n",
        "cow = Cow()\n",
        "cow.sound()\n",
        "\n",
        "sheep = Sheep()\n",
        "sheep.sound()\n"
      ],
      "metadata": {
        "colab": {
          "base_uri": "https://localhost:8080/"
        },
        "id": "k9qZY9dn5scy",
        "outputId": "46b1f920-8d96-4209-d0f3-336e8622a6eb"
      },
      "execution_count": 23,
      "outputs": [
        {
          "output_type": "stream",
          "name": "stdout",
          "text": [
            "Moo!\n",
            "Baa!\n"
          ]
        }
      ]
    },
    {
      "cell_type": "code",
      "source": [
        "#Q17.Create a class Book with attributes title, author, and year_published. Add a method get_book_info() that\n",
        "#returns a formatted string with the book's details.\n",
        "'''\n",
        "answer\n",
        "'''\n",
        "class Book:\n",
        "    def __init__(self, title, author, year_published):\n",
        "        self.title = title\n",
        "        self.author = author\n",
        "        self.year_published = year_published\n",
        "\n",
        "    def get_book_info(self):\n",
        "        return f\"Title: {self.title}, Author: {self.author}, Year Published: {self.year_published}\"\n",
        "\n",
        "book = Book(\"the summer i turned pretty\", \"jenna han\", 2015)\n",
        "book_info = book.get_book_info()\n",
        "print(book_info)\n"
      ],
      "metadata": {
        "colab": {
          "base_uri": "https://localhost:8080/"
        },
        "id": "Xk0WUGqZ58td",
        "outputId": "219dbba7-198d-4b7a-98fe-b07f991377f9"
      },
      "execution_count": 32,
      "outputs": [
        {
          "output_type": "stream",
          "name": "stdout",
          "text": [
            "Title: the summer i turned pretty, Author: jenna han, Year Published: 2015\n"
          ]
        }
      ]
    },
    {
      "cell_type": "code",
      "source": [
        "#Q18. Create a class House with attributes address and price. Create a derived class Mansion that adds an\n",
        "#attribute number_of_rooms.\n",
        "'''\n",
        "answer\n",
        "'''\n",
        "class House:\n",
        "  def __init__(self, address, price):\n",
        "    self.address = address\n",
        "    self.price = price\n",
        "\n",
        "class Mansion(House):\n",
        "  def __init__(self, address, price, number_of_rooms):\n",
        "    super().__init__(address, price)\n",
        "    self.number_of_rooms = number_of_rooms\n",
        "\n",
        "address = \"123 kalkaji new delhi\"\n",
        "price = 1000000\n",
        "number_of_rooms = 10\n",
        "mansion = Mansion(address, price, number_of_rooms)\n",
        "print(mansion.address)"
      ],
      "metadata": {
        "colab": {
          "base_uri": "https://localhost:8080/"
        },
        "id": "HGxlm6mG6d2N",
        "outputId": "1a6d790d-8305-4a6f-d818-15174df22e70"
      },
      "execution_count": 34,
      "outputs": [
        {
          "output_type": "stream",
          "name": "stdout",
          "text": [
            "123 kalkaji new delhi\n"
          ]
        }
      ]
    },
    {
      "cell_type": "code",
      "source": [],
      "metadata": {
        "id": "OJGl-LNx8PUJ"
      },
      "execution_count": null,
      "outputs": []
    }
  ]
}