{
  "nbformat": 4,
  "nbformat_minor": 0,
  "metadata": {
    "colab": {
      "provenance": []
    },
    "kernelspec": {
      "name": "python3",
      "display_name": "Python 3"
    },
    "language_info": {
      "name": "python"
    }
  },
  "cells": [
    {
      "cell_type": "code",
      "execution_count": null,
      "metadata": {
        "id": "f4n666lXMEwo"
      },
      "outputs": [],
      "source": []
    },
    {
      "cell_type": "markdown",
      "source": [
        "**DATA STRUCTURE ASSIGNMENT**\n",
        "\n",
        "Q1. What are data structures, and why are they important?\n",
        "\n",
        " -Data structure refers to the ways of organising and storing data so that it can be accessed and manipulated.\n",
        "     \n",
        "  why are they important?\n",
        "  \n",
        "  -They help programmers manage large amounts of data efficiently\n",
        "  \n",
        "  -They help programmers create effective applications\n",
        "  \n",
        "  -They help programmers solve complex problems.\n",
        "\n",
        "\n",
        "Q2. Explain the difference between mutable and immutable data types with examples.\n",
        "\n",
        " - MUTABLE DATA TYPES\n",
        "      These data types can be modified after they are created. For example, in Python, lists, dictionaries, and sets are mutable data types.\n",
        " - IMMUTABLE DATA TYPES\n",
        "      These data types cannot be changed after they are created. For example, in Python, strings, tuples, integers, and floats are immutable data types.\n",
        "\n",
        "\n",
        "Q3. What are the main differences between lists and tuples in Python?\n",
        "\n",
        " - The main differences between lists and tuples in Python are that lists  \n",
        "  are mutable, while tuples are immutable. Lists can be modified, while tuples cannot. Tuples are also more memory efficient and faster than lists.\n",
        "\n",
        "Q4.  Describe how dictionaries store data?\n",
        "\n",
        "- A Python dictionary is a data structure that stores the value in key:\n",
        "  value pairs. Values in a dictionary can be of any data type and can be duplicated.\n",
        "\n",
        "\n",
        "Q5. Why might you use a set instead of a list in Python?\n",
        "\n",
        "   - One of the main advantages of using sets in Python is that they are highly\n",
        "     optimized for membership tests. For example, sets do membership tests a lot more efficiently than lists.\n",
        "\n",
        "Q6. What is a string in Python, and how is it different from a list.\n",
        "- A string is a sequence of characters between single or double quotes. A list is a sequence of items, where each item could be anything (an integer, a float, a string, etc).\n",
        "\n",
        "\n",
        "Q7.  How do tuples ensure data integrity in Python?\n",
        "\n",
        "- Tuples are immutable, which means once they are created, their content cannot be altered. This characteristic makes them suitable for fixed collections of items, providing data integrity and performance benefits.\n",
        "\n",
        "Q8. What is a hash table, and how does it relate to dictionaries in Python?\n",
        "\n",
        "- In Python, a hash table is a data structure that implements the dictionary data type. Hash tables are used to store key-value pairs, where the key is generated using a hash function.\n",
        "\n",
        "\n",
        "Q9. Can lists contain different data types in Python?\n",
        "\n",
        "- Yes, in a list you can store objects of any type. You can also mix objects of different types within the same list.\n",
        "\n",
        "\n",
        "Q10. Explain why strings are immutable in Python?\n",
        "\n",
        "- Strings in Python are “immutable” which means they can not be changed after they are created. Some other immutable data types are integers, float, boolean, etc.\n",
        "\n",
        " The immutability of Python string is very useful as it helps in hashing, performance optimization, safety, ease of use, etc.\n",
        "\n",
        "Q11. What advantages do dictionaries offer over lists for certain tasks?\n",
        "\n",
        "- Dictionaries offer advantages over lists for tasks that involve searching for specific values or storing key-value pairs. Dictionaries are faster and more efficient than lists for these tasks.\n",
        "- Dictionaries can store any type of data as both the key and the value.\n",
        "- Dictionaries make code easier to read when generating key-value pairs.\n",
        "\n",
        "Q12. Describe a scenario where using a tuple would be preferable over a list?\n",
        "\n",
        "- Tuples make the code safe from any accidental modification. If a data is needed in a program which is not supposed to be changed, then it is better to put it in 'tuples' than in 'list'.\n",
        "\n",
        "Q13.  How do sets handle duplicate values in Python?\n",
        "\n",
        "- Sets do not allow duplicate items, they are unordered, and the items stored in them cannot be modified.\n",
        "\n",
        "Q14. How does the “in” keyword work differently for lists and dictionaries?\n",
        "\n",
        "- Python’s \"in\" operators allow you to quickly determine if a given value is a part of a collection of values. This type of check is common in programming, and it’s generally known as a membership test in Python.\n",
        "\n",
        "- Lists: The in keyword checks if the element is in the list.\n",
        "- Dictionaries: The in keyword checks if the key is in the dictionary.\n",
        "\n",
        "Q15. Can you modify the elements of a tuple? Explain why or why not?\n",
        "\n",
        "- No, you cannot directly modify the elements of a tuple in Python because tuples are \"immutable,\" meaning once created, their elements cannot be changed; if you try to alter a tuple element, you will receive an error message.\n",
        "\n",
        "Q16. What is a nested dictionary, and give an example of its use case?\n",
        "\n",
        "- A nested dictionary is a dictionary that contains other dictionaries. It's a powerful tool for organizing data with multiple layers.\n",
        "Example\n",
        "- A nested dictionary can be used to organize employee records by department. Each employee's details can be stored in a nested dictionary.\n",
        "- A nested dictionary can be used to track product categories, subcategories, and individual product details.\n",
        "\n",
        "Q17. Describe the time complexity of accessing elements in a dictionary.\n",
        "\n",
        "- Time complexity is a measure of how much time an algorithm takes to run.\n",
        "It's usually expressed as a function of the size of the input.\n",
        "In the case of a dictionary, the time complexity depends on the size of the dictionary and the operation being performed.\n",
        "\n",
        "Q18. In what situations are lists preferred over dictionaries?\n",
        "\n",
        "- If you need an ordered collection, like a sequence of user actions, lists are your go-to.\n",
        "\n",
        "Q19. Why are dictionaries considered unordered, and how does that affect data retrieval.\n",
        "\n",
        "- A dictionary is termed an unordered collection of objects because dictionaries do not maintain any inherent order of the items based on when they were added. because there's no implicit \"position\" to the keys, and their internal structure focuses on fast access rather than maintaining a specific order based on the keys. This doesn't significantly impact performance when accessing elements by key but requires explicit handling if you need to iterate in a particular order.\n",
        "\n",
        "Q20. Explain the difference between a list and a dictionary in terms of data retrieval.\n",
        "\n",
        "-  A list is an ordered collection of items, whereas a dictionary is an unordered data collection in a key: value pair. Elements from the list can be accessed using the index, while the elements of the dictionary can be accessed using keys.\n",
        "\n",
        "\n",
        "\n"
      ],
      "metadata": {
        "id": "zOpj8gXgMdBU"
      }
    },
    {
      "cell_type": "code",
      "source": [
        "#DATA STRUCTURE ASSINMENT PRACTICAL PART.\n",
        "\n",
        "#Q1.  Write a code to create a string with your name and print it.\n",
        "\n",
        "'''\n",
        "answer\n",
        "'''\n",
        "\n",
        "name=\"aditi\"\n",
        "print(name)\n"
      ],
      "metadata": {
        "colab": {
          "base_uri": "https://localhost:8080/"
        },
        "id": "mCQNYoD3Zw8u",
        "outputId": "8b8a2ca4-e073-45fe-ffbc-3e374540fea4"
      },
      "execution_count": 7,
      "outputs": [
        {
          "output_type": "stream",
          "name": "stdout",
          "text": [
            "aditi\n"
          ]
        }
      ]
    },
    {
      "cell_type": "code",
      "source": [
        "#Q2. Write a code to find the length of the string \"Hello World\"?\n",
        "\n",
        "'''\n",
        "answer\n",
        "'''\n",
        "\n",
        "string= \"Hello world\"\n",
        "print(len(string))"
      ],
      "metadata": {
        "colab": {
          "base_uri": "https://localhost:8080/"
        },
        "id": "2PSCNZoraayo",
        "outputId": "c42cd1b3-0742-45de-b61e-8bcfd5e0eae4"
      },
      "execution_count": 8,
      "outputs": [
        {
          "output_type": "stream",
          "name": "stdout",
          "text": [
            "11\n"
          ]
        }
      ]
    },
    {
      "cell_type": "code",
      "source": [
        "#Q3. Write a code to slice the first 3 characters from the string \"Python Programming\"\n",
        "\n",
        "'''\n",
        "answer\n",
        "'''\n",
        "\n",
        "A= \"Python Programming\"\n",
        "A[:3]\n",
        "\n"
      ],
      "metadata": {
        "colab": {
          "base_uri": "https://localhost:8080/",
          "height": 36
        },
        "id": "FIdXmVrOcUfd",
        "outputId": "696590e3-55ee-4712-a862-bf81653d8918"
      },
      "execution_count": 10,
      "outputs": [
        {
          "output_type": "execute_result",
          "data": {
            "text/plain": [
              "'Pyt'"
            ],
            "application/vnd.google.colaboratory.intrinsic+json": {
              "type": "string"
            }
          },
          "metadata": {},
          "execution_count": 10
        }
      ]
    },
    {
      "cell_type": "code",
      "source": [
        "#Q4. Write a code to convert the string \"hello\" to uppercase.\n",
        "\n",
        "'''\n",
        "answer\n",
        "'''\n",
        "\n",
        "string=\"hello\"\n",
        "string.upper()\n"
      ],
      "metadata": {
        "colab": {
          "base_uri": "https://localhost:8080/",
          "height": 36
        },
        "id": "ZsaXKYIUdIuU",
        "outputId": "578cb8e2-adf7-49ff-be6c-25a6b94b19a4"
      },
      "execution_count": 12,
      "outputs": [
        {
          "output_type": "execute_result",
          "data": {
            "text/plain": [
              "'HELLO'"
            ],
            "application/vnd.google.colaboratory.intrinsic+json": {
              "type": "string"
            }
          },
          "metadata": {},
          "execution_count": 12
        }
      ]
    },
    {
      "cell_type": "code",
      "source": [
        "#Q5. Write a code to replace the word \"apple\" with \"orange\" in the string \"I like apple\"\n",
        "\n",
        "'''\n",
        "answer\n",
        "'''\n",
        "\n",
        "string=\"I like apple\"\n",
        "string.replace(\"apple\",\"orange\")\n",
        "\n"
      ],
      "metadata": {
        "colab": {
          "base_uri": "https://localhost:8080/",
          "height": 36
        },
        "id": "UOYZ_6tjdYlN",
        "outputId": "694a578d-8ab5-4d09-827e-7e2d2d3dcf0a"
      },
      "execution_count": 13,
      "outputs": [
        {
          "output_type": "execute_result",
          "data": {
            "text/plain": [
              "'I like orange'"
            ],
            "application/vnd.google.colaboratory.intrinsic+json": {
              "type": "string"
            }
          },
          "metadata": {},
          "execution_count": 13
        }
      ]
    },
    {
      "cell_type": "code",
      "source": [
        "#Q6. Write a code to create a list with numbers 1 to 5 and print it.\n",
        "\n",
        "'''\n",
        "answer\n",
        "'''\n",
        "\n",
        "list=[1,2,3,4,5]\n",
        "print(list)\n"
      ],
      "metadata": {
        "colab": {
          "base_uri": "https://localhost:8080/"
        },
        "id": "Qy7E_Qv2d8sM",
        "outputId": "31228c63-6cfc-4d01-acd2-9be142502013"
      },
      "execution_count": 14,
      "outputs": [
        {
          "output_type": "stream",
          "name": "stdout",
          "text": [
            "[1, 2, 3, 4, 5]\n"
          ]
        }
      ]
    },
    {
      "cell_type": "code",
      "source": [
        "#Q7. Write a code to append the number 10 to the list [1, 2, 3, 4].\n",
        "\n",
        "'''\n",
        "answer\n",
        "'''\n",
        "\n",
        "list=[1,2,3,4]\n",
        "list.append(10)\n",
        "print(list)\n",
        "\n"
      ],
      "metadata": {
        "colab": {
          "base_uri": "https://localhost:8080/"
        },
        "id": "rmT2k-x3eL4Z",
        "outputId": "43361e79-5a93-423d-ff73-f9e05c8d4e0c"
      },
      "execution_count": 15,
      "outputs": [
        {
          "output_type": "stream",
          "name": "stdout",
          "text": [
            "[1, 2, 3, 4, 10]\n"
          ]
        }
      ]
    },
    {
      "cell_type": "code",
      "source": [
        "#Q8. Write a code to remove the number 3 from the list [1, 2, 3, 4, 5].\n",
        "\n",
        "'''\n",
        "answer\n",
        "'''\n",
        "\n",
        "list=[1,2,3,4,5]\n",
        "list.remove(3)\n",
        "print(list)"
      ],
      "metadata": {
        "colab": {
          "base_uri": "https://localhost:8080/"
        },
        "id": "ctnVEl4oega4",
        "outputId": "0899569f-387b-45b7-9c43-01f5ad173b1f"
      },
      "execution_count": 16,
      "outputs": [
        {
          "output_type": "stream",
          "name": "stdout",
          "text": [
            "[1, 2, 4, 5]\n"
          ]
        }
      ]
    },
    {
      "cell_type": "code",
      "source": [
        "#Q9. Write a code to access the second element in the list ['a', 'b', 'c', 'd'].\n",
        "\n",
        "'''\n",
        "answer\n",
        "'''\n",
        "\n",
        "list=['a','b','c','d']\n",
        "list[1]"
      ],
      "metadata": {
        "colab": {
          "base_uri": "https://localhost:8080/",
          "height": 36
        },
        "id": "JiXL5FfGewHa",
        "outputId": "064ac16d-2da6-42a6-e3d9-7ce2412c9d4f"
      },
      "execution_count": 17,
      "outputs": [
        {
          "output_type": "execute_result",
          "data": {
            "text/plain": [
              "'b'"
            ],
            "application/vnd.google.colaboratory.intrinsic+json": {
              "type": "string"
            }
          },
          "metadata": {},
          "execution_count": 17
        }
      ]
    },
    {
      "cell_type": "code",
      "source": [
        "#Q10. Write a code to reverse the list [10, 20, 30, 40, 50].\n",
        "\n",
        "'''\n",
        "answer\n",
        "'''\n",
        "\n",
        "list=[10,20,30,40,50]\n",
        "list.reverse()\n",
        "print(list)\n"
      ],
      "metadata": {
        "colab": {
          "base_uri": "https://localhost:8080/"
        },
        "id": "oZHUDxp_fHTQ",
        "outputId": "fb8813e4-7b9b-43d7-a793-8961ed88f05a"
      },
      "execution_count": 18,
      "outputs": [
        {
          "output_type": "stream",
          "name": "stdout",
          "text": [
            "[50, 40, 30, 20, 10]\n"
          ]
        }
      ]
    },
    {
      "cell_type": "code",
      "source": [
        "#Q11. Write a code to create a tuple with the elements 10, 20, 30 and print it.\n",
        "\n",
        "'''\n",
        "answer\n",
        "'''\n",
        "\n",
        "tuple=(10,20,30)\n",
        "print(tuple)"
      ],
      "metadata": {
        "colab": {
          "base_uri": "https://localhost:8080/"
        },
        "id": "Fw6j5AF6fZ0V",
        "outputId": "8c6170fb-0f2b-431c-f952-d1d53c974726"
      },
      "execution_count": 20,
      "outputs": [
        {
          "output_type": "stream",
          "name": "stdout",
          "text": [
            "(10, 20, 30)\n"
          ]
        }
      ]
    },
    {
      "cell_type": "code",
      "source": [
        "#Q12. Write a code to access the first element of the tuple ('apple', 'banana', 'cherry').\n",
        "\n",
        "'''\n",
        "answer\n",
        "'''\n",
        "\n",
        "tuple=(\"apple\",\"banana\",\"cherry\")\n",
        "tuple[0]\n"
      ],
      "metadata": {
        "colab": {
          "base_uri": "https://localhost:8080/",
          "height": 36
        },
        "id": "la3p7JVYfpIk",
        "outputId": "54eaefc2-71f2-4f39-bd57-3fe88f91a10c"
      },
      "execution_count": 21,
      "outputs": [
        {
          "output_type": "execute_result",
          "data": {
            "text/plain": [
              "'apple'"
            ],
            "application/vnd.google.colaboratory.intrinsic+json": {
              "type": "string"
            }
          },
          "metadata": {},
          "execution_count": 21
        }
      ]
    },
    {
      "cell_type": "code",
      "source": [
        "#Q13.  Write a code to count how many times the number 2 appears in the tuple (1, 2, 3, 2, 4, 2).\n",
        "\n",
        "'''\n",
        "answer\n",
        "'''\n",
        "\n",
        "tuple=(1,2,3,2,4,2)\n",
        "tuple.count(2)"
      ],
      "metadata": {
        "colab": {
          "base_uri": "https://localhost:8080/"
        },
        "id": "fzoAsOrPf_YD",
        "outputId": "eccfeaa0-9050-4fc6-b4f3-16f94ac80cb9"
      },
      "execution_count": 22,
      "outputs": [
        {
          "output_type": "execute_result",
          "data": {
            "text/plain": [
              "3"
            ]
          },
          "metadata": {},
          "execution_count": 22
        }
      ]
    },
    {
      "cell_type": "code",
      "source": [
        "#Q14. Write a code to find the index of the element \"cat\" in the tuple ('dog', 'cat', 'rabbit').\n",
        "\n",
        "'''\n",
        "answer\n",
        "'''\n",
        "\n",
        "tuple=(\"dog\",\"cat\",\"rabbit\")\n",
        "tuple.index(\"cat\")\n"
      ],
      "metadata": {
        "colab": {
          "base_uri": "https://localhost:8080/"
        },
        "id": "9lNST_6LgYPI",
        "outputId": "7e1d68d3-80d3-4380-ef11-c54d71f0cd9d"
      },
      "execution_count": 23,
      "outputs": [
        {
          "output_type": "execute_result",
          "data": {
            "text/plain": [
              "1"
            ]
          },
          "metadata": {},
          "execution_count": 23
        }
      ]
    },
    {
      "cell_type": "code",
      "source": [
        "#Q15.  Write a code to check if the element \"banana\" is in the tuple ('apple', 'orange', 'banana').\n",
        "\n",
        "'''\n",
        "answer\n",
        "'''\n",
        "\n",
        "tuple=('apple','orange','banana')\n",
        "\"banana\" in tuple"
      ],
      "metadata": {
        "colab": {
          "base_uri": "https://localhost:8080/"
        },
        "id": "lcqdfupagx-y",
        "outputId": "b1278ec8-7c1c-4fec-ba50-642c90c0a89f"
      },
      "execution_count": 24,
      "outputs": [
        {
          "output_type": "execute_result",
          "data": {
            "text/plain": [
              "True"
            ]
          },
          "metadata": {},
          "execution_count": 24
        }
      ]
    },
    {
      "cell_type": "code",
      "source": [
        "#Q16. Write a code to create a set with the elements 1, 2, 3, 4, 5 and print it.\n",
        "'''\n",
        "answer\n",
        "'''\n",
        "\n",
        "set={1,2,3,4,5}\n",
        "print(set)"
      ],
      "metadata": {
        "colab": {
          "base_uri": "https://localhost:8080/"
        },
        "id": "U20oWoMDhJFL",
        "outputId": "4241f47d-3fab-470c-b297-fd5ceb5c7b61"
      },
      "execution_count": 25,
      "outputs": [
        {
          "output_type": "stream",
          "name": "stdout",
          "text": [
            "{1, 2, 3, 4, 5}\n"
          ]
        }
      ]
    },
    {
      "cell_type": "code",
      "source": [
        "#Q17. Write a code to add the element 6 to the set {1, 2, 3, 4}.\n",
        "'''\n",
        "answer\n",
        "'''\n",
        "\n",
        "set={1,2,3,4}\n",
        "set.add(5)\n",
        "print(set)"
      ],
      "metadata": {
        "colab": {
          "base_uri": "https://localhost:8080/"
        },
        "id": "HLJt3Io2hWCl",
        "outputId": "458b6bf0-826d-4918-dff2-8a590fc42d4a"
      },
      "execution_count": 27,
      "outputs": [
        {
          "output_type": "stream",
          "name": "stdout",
          "text": [
            "{1, 2, 3, 4, 5}\n"
          ]
        }
      ]
    },
    {
      "cell_type": "code",
      "source": [
        "#Q18. Write a code to create a tuple with the elements 10, 20, 30 and print it.\n",
        "\n",
        "'''\n",
        "answer\n",
        "'''\n",
        "\n",
        "tuple=(10,20,30)\n",
        "print(tuple)"
      ],
      "metadata": {
        "colab": {
          "base_uri": "https://localhost:8080/"
        },
        "id": "6OWYdlLLhumr",
        "outputId": "8b1e1b60-6ce8-473e-d8a6-67b1d4c3f2b8"
      },
      "execution_count": 28,
      "outputs": [
        {
          "output_type": "stream",
          "name": "stdout",
          "text": [
            "(10, 20, 30)\n"
          ]
        }
      ]
    },
    {
      "cell_type": "code",
      "source": [
        "#Q19.  Write a code to access the first element of the tuple ('apple', 'banana', 'cherry').\n",
        "\n",
        "'''\n",
        "answer\n",
        "'''\n",
        "\n",
        "tuple=(\"apple\",\"banana\",\"cherry\")\n",
        "tuple[0]"
      ],
      "metadata": {
        "colab": {
          "base_uri": "https://localhost:8080/",
          "height": 36
        },
        "id": "wgHByA9Mh-_T",
        "outputId": "cf69dba9-d202-4f02-fb69-466c8cc41026"
      },
      "execution_count": 29,
      "outputs": [
        {
          "output_type": "execute_result",
          "data": {
            "text/plain": [
              "'apple'"
            ],
            "application/vnd.google.colaboratory.intrinsic+json": {
              "type": "string"
            }
          },
          "metadata": {},
          "execution_count": 29
        }
      ]
    },
    {
      "cell_type": "code",
      "source": [
        "#Q20. Write a code to count how many times the number 2 appears in the tuple (1, 2, 3, 2, 4, 2).\n",
        "\n",
        "'''\n",
        "answer\n",
        "'''\n",
        "\n",
        "tuple=(1,2,3,2,4,2)\n",
        "tuple.count(2)"
      ],
      "metadata": {
        "colab": {
          "base_uri": "https://localhost:8080/"
        },
        "id": "w6rRsqWOiPDL",
        "outputId": "9534e6cc-54e0-4db8-8aa8-1d514f241a72"
      },
      "execution_count": 30,
      "outputs": [
        {
          "output_type": "execute_result",
          "data": {
            "text/plain": [
              "3"
            ]
          },
          "metadata": {},
          "execution_count": 30
        }
      ]
    },
    {
      "cell_type": "code",
      "source": [
        "#Q21. Write a code to find the index of the element \"cat\" in the tuple ('dog', 'cat', 'rabbit').\n",
        "\n",
        "'''\n",
        "answer\n",
        "'''\n",
        "\n",
        "tuple=(\"dog\",\"cat\",\"rabbit\")\n",
        "tuple.index(\"cat\")"
      ],
      "metadata": {
        "colab": {
          "base_uri": "https://localhost:8080/"
        },
        "id": "RkZ39yDmiidN",
        "outputId": "199481f0-064f-45c6-d28c-f1878a20a7ca"
      },
      "execution_count": 31,
      "outputs": [
        {
          "output_type": "execute_result",
          "data": {
            "text/plain": [
              "1"
            ]
          },
          "metadata": {},
          "execution_count": 31
        }
      ]
    },
    {
      "cell_type": "code",
      "source": [
        "#Q22.  Write a code to check if the element \"banana\" is in the tuple ('apple', 'orange', 'banana').\n",
        "'''\n",
        "answer\n",
        "'''\n",
        "\n",
        "tuple=('apple','orange','banana')\n",
        "\"banana\" in tuple\n"
      ],
      "metadata": {
        "colab": {
          "base_uri": "https://localhost:8080/"
        },
        "id": "vqz21NW_ixig",
        "outputId": "5f6a7197-539c-4593-c867-75e5726b8bbe"
      },
      "execution_count": 32,
      "outputs": [
        {
          "output_type": "execute_result",
          "data": {
            "text/plain": [
              "True"
            ]
          },
          "metadata": {},
          "execution_count": 32
        }
      ]
    },
    {
      "cell_type": "code",
      "source": [
        "#Q23. Write a code to create a set with the elements 1, 2, 3, 4, 5 and print it.\n",
        "\n",
        "'''\n",
        "answer\n",
        "'''\n",
        "\n",
        "set={1,2,3,4,5}\n",
        "print(set)\n",
        "\n"
      ],
      "metadata": {
        "colab": {
          "base_uri": "https://localhost:8080/"
        },
        "id": "QRaNwplojGzq",
        "outputId": "cf1d8d4b-0703-4791-a499-41eb801739f0"
      },
      "execution_count": 33,
      "outputs": [
        {
          "output_type": "stream",
          "name": "stdout",
          "text": [
            "{1, 2, 3, 4, 5}\n"
          ]
        }
      ]
    },
    {
      "cell_type": "code",
      "source": [
        "#Q24. Write a code to add the element 6 to the set {1, 2, 3, 4}.\n",
        "'''\n",
        "answer\n",
        "'''\n",
        "\n",
        "set={1,2,3,4}\n",
        "set.add(5)\n",
        "print(set)"
      ],
      "metadata": {
        "colab": {
          "base_uri": "https://localhost:8080/"
        },
        "id": "iQTARX01jW6u",
        "outputId": "55f3144a-f903-4c62-8383-075df995a093"
      },
      "execution_count": 35,
      "outputs": [
        {
          "output_type": "stream",
          "name": "stdout",
          "text": [
            "{1, 2, 3, 4, 5}\n"
          ]
        }
      ]
    },
    {
      "cell_type": "code",
      "source": [],
      "metadata": {
        "id": "EALnTjw4jnqL"
      },
      "execution_count": null,
      "outputs": []
    }
  ]
}