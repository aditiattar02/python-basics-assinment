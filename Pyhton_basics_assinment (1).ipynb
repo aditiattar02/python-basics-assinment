{
  "nbformat": 4,
  "nbformat_minor": 0,
  "metadata": {
    "colab": {
      "provenance": []
    },
    "kernelspec": {
      "name": "python3",
      "display_name": "Python 3"
    },
    "language_info": {
      "name": "python"
    }
  },
  "cells": [
    {
      "cell_type": "markdown",
      "source": [
        "#PYTHON BASICS ASSINMENT\n",
        "\n",
        "1. What is Python, and why is it popular?\n",
        "  \n",
        "  - Python is a programming language (formal language) for creating instruction\n",
        "  for the computer to follow.\n",
        "   -python is popular because:\n",
        "  -a)widely used in the industry\n",
        "  -b)python has a lot of libraries\n",
        "  -c)huge active community.\n",
        "\n",
        "2. What is an interpreter in Python?\n",
        "  \n",
        "    - A Python interpreter is a program that reads Python code and executes it line by line.\n",
        "\n",
        "3. What are pre-defined keywords in Python?\n",
        "    - Predefine keywords are words that hold a special meaning and have specific purpose.Meaning oof keywords is fixed it can never be change.\n",
        "\n",
        "4. Can keywords be used as variable names?\n",
        "    - No, keywords can never be used as variable name.\n",
        "\n",
        "5. What is mutability in Python?\n",
        "    - Objects/containers whose state or value can be changes afetr they are created are called mutable objects.\n",
        "\n",
        "6. Why are lists mutable, but tuples are immutable?\n",
        "   - List is mutable objects beacuse it supports item assinment it can be changed. but once a tuple's elements have been allocated, they cannot be modified.\n",
        "\n",
        "7. What is the difference between “==” and “is” operators in Python?\n",
        "   - The '==' is known as the equality operator. The 'is' is known as the identity operator. The == operator helps us compare the equality of objects. The is operator helps us check whether different variables point towards a similar object in the memory.\n",
        "\n",
        "8. What are logical operators in Python?\n",
        "   - logical operators are symbols or words that combine multiple conditions into a single boolean expression.\n",
        "\n",
        "9. What is type casting in Python?\n",
        "   - Type casting/Type conversation is the process of changing the data type of value /object in python is known as type casting.\n",
        "\n",
        "10. What is the difference between implicit and explicit type casting?\n",
        "\n",
        "   - Implicit type conversion is performed by a Python interpreter only. Explicit type conversion is performed by the user by explicitly using type conversion functions in the program code.\n",
        "\n",
        "11. What is the purpose of conditional statements in Python?\n",
        "    - Conditional statements helps to code decisions based on preconditions.\n",
        "\n",
        "12. How does the elif statement work?\n",
        "    - elif is used when the first if statement isn't true, but you want to check for another condition. to check the other condition elif is used.\n",
        "\n",
        "13. What is the difference between for and while loops?\n",
        "    - A for loop in Python repeats executing a code block from a sequence till certain number of times. Whereas a while loop in Python repeats execution of a code block till the condition is true which is not certain.\n",
        "    - A For loop is used when the number of iterations is known. A While loop runs as long as a condition is true.\n",
        "\n",
        "14. Describe a scenario where a while loop is more suitable than a for loop.\n",
        "    -  when you need to continue looping until a specific condition is met, rather than a set number of times.\n",
        "    \n"
      ],
      "metadata": {
        "id": "RiJbkeeiZqaO"
      }
    },
    {
      "cell_type": "code",
      "source": [
        "#practical questions.\n",
        "#Q1.Write a Python program to print \"Hello, World!\n",
        "'''\n",
        "answer\n",
        "\n",
        "'''\n",
        "print(\"Hello, World\")\n"
      ],
      "metadata": {
        "colab": {
          "base_uri": "https://localhost:8080/"
        },
        "id": "QGAeVmTWjNNH",
        "outputId": "76f6f279-e05d-49a6-a6a6-8ce0d093a7c2"
      },
      "execution_count": null,
      "outputs": [
        {
          "output_type": "stream",
          "name": "stdout",
          "text": [
            "Hello, World\n"
          ]
        }
      ]
    },
    {
      "cell_type": "code",
      "source": [
        "#Q2. Write a Python program that displays your name and age.\n",
        "'''\n",
        "answer\n",
        "'''\n",
        "Name=input(\"enter your name: \")\n",
        "Age=input(\"enter your age: \")"
      ],
      "metadata": {
        "colab": {
          "base_uri": "https://localhost:8080/"
        },
        "id": "rMh4hKVEjvv9",
        "outputId": "97dcaa86-0158-40e7-bf58-80de7c62ba49"
      },
      "execution_count": null,
      "outputs": [
        {
          "name": "stdout",
          "output_type": "stream",
          "text": [
            "enter your name: Aditi attar\n",
            "enter your age: 21\n"
          ]
        }
      ]
    },
    {
      "cell_type": "code",
      "source": [
        "#Q3. Write code to print all the pre-defined keywords in Python using the keyword library.\n",
        "'''\n",
        "answer\n",
        "'''\n",
        "help(\"keywords\")"
      ],
      "metadata": {
        "colab": {
          "base_uri": "https://localhost:8080/"
        },
        "id": "hyo2aaAekpO5",
        "outputId": "25e44e63-a774-4c88-aaa3-9d3ea79cdcc6"
      },
      "execution_count": null,
      "outputs": [
        {
          "output_type": "stream",
          "name": "stdout",
          "text": [
            "\n",
            "Here is a list of the Python keywords.  Enter any keyword to get more help.\n",
            "\n",
            "False               class               from                or\n",
            "None                continue            global              pass\n",
            "True                def                 if                  raise\n",
            "and                 del                 import              return\n",
            "as                  elif                in                  try\n",
            "assert              else                is                  while\n",
            "async               except              lambda              with\n",
            "await               finally             nonlocal            yield\n",
            "break               for                 not                 \n",
            "\n"
          ]
        }
      ]
    },
    {
      "cell_type": "code",
      "source": [
        "#Q4. Write a program that checks if a given word is a Python keyword.\n",
        "'''\n",
        "answer\n",
        "'''\n",
        "\n",
        "list=['False', 'None', 'True', 'and', 'as', 'assert', 'async', 'await',\n",
        "         'break', 'class', 'continue', 'def', 'del', 'elif', 'else', 'except',\n",
        "         'finally', 'for', 'from', 'global', 'if', 'import', 'in', 'is', 'lambda',\n",
        "         'nonlocal', 'not', 'or', 'pass', 'raise', 'return', 'try',\n",
        "         'while', 'with', 'yield']\n",
        "\n",
        "word=\"return\"\n",
        "\n",
        "if word in list:\n",
        "  print(\"word is present\")\n",
        "else:\n",
        "  print(\"word is not present\")\n",
        "\n",
        "\n",
        "\n"
      ],
      "metadata": {
        "colab": {
          "base_uri": "https://localhost:8080/"
        },
        "id": "xAWmsWoSlBgr",
        "outputId": "fca94b57-79e8-4bb1-b30c-1f6806905731"
      },
      "execution_count": 13,
      "outputs": [
        {
          "output_type": "stream",
          "name": "stdout",
          "text": [
            "word is present\n"
          ]
        }
      ]
    },
    {
      "cell_type": "code",
      "source": [
        "#Q5. Create a list and tuple in Python, and demonstrate how attempting to change an element works differently\n",
        "#for each.\n",
        "\n",
        "'''\n",
        "answer\n",
        "'''\n",
        "\n",
        "list= [1,2,3,4,5,6,7]\n",
        "print(\"Original list \", list)\n",
        "\n",
        "list[3]= 55\n",
        "print(\"example to show changed element \", list)\n"
      ],
      "metadata": {
        "id": "ywMM5o-Ulb6q",
        "colab": {
          "base_uri": "https://localhost:8080/"
        },
        "outputId": "73cae070-af20-468d-faa8-143c9408f38f"
      },
      "execution_count": 19,
      "outputs": [
        {
          "output_type": "stream",
          "name": "stdout",
          "text": [
            "Original list  [1, 2, 3, 4, 5, 6, 7]\n",
            "example to show changed element  [1, 2, 3, 55, 5, 6, 7]\n"
          ]
        }
      ]
    },
    {
      "cell_type": "code",
      "source": [
        "tuple1 = (0, 1, 2, 3)\n",
        "tuple1[0] = 4\n",
        "print(tuple1)\n",
        "\n",
        "#it will show error as they channot be changed!!\n"
      ],
      "metadata": {
        "colab": {
          "base_uri": "https://localhost:8080/",
          "height": 176
        },
        "id": "BEQT72ej-wmB",
        "outputId": "682c77b3-7c69-46ef-8793-7f4e5b25e1cf"
      },
      "execution_count": 20,
      "outputs": [
        {
          "output_type": "error",
          "ename": "TypeError",
          "evalue": "'tuple' object does not support item assignment",
          "traceback": [
            "\u001b[0;31m---------------------------------------------------------------------------\u001b[0m",
            "\u001b[0;31mTypeError\u001b[0m                                 Traceback (most recent call last)",
            "\u001b[0;32m<ipython-input-20-29c8818429e3>\u001b[0m in \u001b[0;36m<cell line: 2>\u001b[0;34m()\u001b[0m\n\u001b[1;32m      1\u001b[0m \u001b[0mtuple1\u001b[0m \u001b[0;34m=\u001b[0m \u001b[0;34m(\u001b[0m\u001b[0;36m0\u001b[0m\u001b[0;34m,\u001b[0m \u001b[0;36m1\u001b[0m\u001b[0;34m,\u001b[0m \u001b[0;36m2\u001b[0m\u001b[0;34m,\u001b[0m \u001b[0;36m3\u001b[0m\u001b[0;34m)\u001b[0m\u001b[0;34m\u001b[0m\u001b[0;34m\u001b[0m\u001b[0m\n\u001b[0;32m----> 2\u001b[0;31m \u001b[0mtuple1\u001b[0m\u001b[0;34m[\u001b[0m\u001b[0;36m0\u001b[0m\u001b[0;34m]\u001b[0m \u001b[0;34m=\u001b[0m \u001b[0;36m4\u001b[0m\u001b[0;34m\u001b[0m\u001b[0;34m\u001b[0m\u001b[0m\n\u001b[0m\u001b[1;32m      3\u001b[0m \u001b[0mprint\u001b[0m\u001b[0;34m(\u001b[0m\u001b[0mtuple1\u001b[0m\u001b[0;34m)\u001b[0m\u001b[0;34m\u001b[0m\u001b[0;34m\u001b[0m\u001b[0m\n",
            "\u001b[0;31mTypeError\u001b[0m: 'tuple' object does not support item assignment"
          ]
        }
      ]
    },
    {
      "cell_type": "code",
      "source": [
        "#Q6. Write a function to demonstrate the behavior of mutable and immutable arguments.\n",
        "'''\n",
        "answer\n",
        "'''\n",
        "#mutable arguments\n",
        "\n",
        "list= [1,2,3,4,5,6,7]\n",
        "print(\"Original list \", list)\n",
        "\n",
        "list[3]= 55\n",
        "print(\"example to show changed element \", list)\n",
        "\n",
        "\n"
      ],
      "metadata": {
        "colab": {
          "base_uri": "https://localhost:8080/"
        },
        "id": "C4RY-JpG_6xW",
        "outputId": "48b676be-bd70-4abc-bcc8-ecd067c6da9c"
      },
      "execution_count": 21,
      "outputs": [
        {
          "output_type": "stream",
          "name": "stdout",
          "text": [
            "Original list  [1, 2, 3, 4, 5, 6, 7]\n",
            "example to show changed element  [1, 2, 3, 55, 5, 6, 7]\n"
          ]
        }
      ]
    },
    {
      "cell_type": "code",
      "source": [
        "#immutable arguments\n",
        "\n",
        "tuple1 = (0, 1, 2, 3)\n",
        "tuple1[0] = 4\n",
        "print(tuple1)\n"
      ],
      "metadata": {
        "colab": {
          "base_uri": "https://localhost:8080/",
          "height": 193
        },
        "id": "OsLb2GaUEdr2",
        "outputId": "8b097e8f-ec02-4f04-bf61-099fade079ec"
      },
      "execution_count": 22,
      "outputs": [
        {
          "output_type": "error",
          "ename": "TypeError",
          "evalue": "'tuple' object does not support item assignment",
          "traceback": [
            "\u001b[0;31m---------------------------------------------------------------------------\u001b[0m",
            "\u001b[0;31mTypeError\u001b[0m                                 Traceback (most recent call last)",
            "\u001b[0;32m<ipython-input-22-ce76a2423bfb>\u001b[0m in \u001b[0;36m<cell line: 4>\u001b[0;34m()\u001b[0m\n\u001b[1;32m      2\u001b[0m \u001b[0;34m\u001b[0m\u001b[0m\n\u001b[1;32m      3\u001b[0m \u001b[0mtuple1\u001b[0m \u001b[0;34m=\u001b[0m \u001b[0;34m(\u001b[0m\u001b[0;36m0\u001b[0m\u001b[0;34m,\u001b[0m \u001b[0;36m1\u001b[0m\u001b[0;34m,\u001b[0m \u001b[0;36m2\u001b[0m\u001b[0;34m,\u001b[0m \u001b[0;36m3\u001b[0m\u001b[0;34m)\u001b[0m\u001b[0;34m\u001b[0m\u001b[0;34m\u001b[0m\u001b[0m\n\u001b[0;32m----> 4\u001b[0;31m \u001b[0mtuple1\u001b[0m\u001b[0;34m[\u001b[0m\u001b[0;36m0\u001b[0m\u001b[0;34m]\u001b[0m \u001b[0;34m=\u001b[0m \u001b[0;36m4\u001b[0m\u001b[0;34m\u001b[0m\u001b[0;34m\u001b[0m\u001b[0m\n\u001b[0m\u001b[1;32m      5\u001b[0m \u001b[0mprint\u001b[0m\u001b[0;34m(\u001b[0m\u001b[0mtuple1\u001b[0m\u001b[0;34m)\u001b[0m\u001b[0;34m\u001b[0m\u001b[0;34m\u001b[0m\u001b[0m\n",
            "\u001b[0;31mTypeError\u001b[0m: 'tuple' object does not support item assignment"
          ]
        }
      ]
    },
    {
      "cell_type": "code",
      "source": [
        "#Q7. Write a function to demonstrate the behavior of mutable and immutable arguments.\n",
        "'''\n",
        "answer\n",
        "'''\n",
        "#this question is repeated in the assinment sheet so refer to the above answer (Q6.) thank you!!\n",
        "\n"
      ],
      "metadata": {
        "id": "I0KpDierEj3B"
      },
      "execution_count": null,
      "outputs": []
    },
    {
      "cell_type": "code",
      "source": [
        "#Q8. Write a program to demonstrate the use of logical operators.\n",
        "'''\n",
        "answer\n",
        "'''\n",
        "\n",
        "a, b, c= True, False, True\n",
        "\n",
        "if a and c:\n",
        "    print(\"Both a and c are True (AND condition).\")\n",
        "if b or c:\n",
        "    print(\"Either b or c is True (OR condition).\")\n",
        "if not b:\n",
        "    print(\"b is False (NOT condition).\")"
      ],
      "metadata": {
        "colab": {
          "base_uri": "https://localhost:8080/"
        },
        "id": "_Gu7ZPHvFDyZ",
        "outputId": "20bb6ac0-5946-4f43-b739-ea51c82f4f74"
      },
      "execution_count": 23,
      "outputs": [
        {
          "output_type": "stream",
          "name": "stdout",
          "text": [
            "Both a and c are True (AND condition).\n",
            "Either b or c is True (OR condition).\n",
            "b is False (NOT condition).\n"
          ]
        }
      ]
    },
    {
      "cell_type": "code",
      "source": [
        "a = 10\n",
        "b = 12\n",
        "c = 0\n",
        "if a and b and c:\n",
        "    print(\"All the numbers have boolean value as True\")\n",
        "else:\n",
        "    print(\"Atleast one number has boolean value as False\")\n"
      ],
      "metadata": {
        "colab": {
          "base_uri": "https://localhost:8080/"
        },
        "id": "RDywxxDmGG4q",
        "outputId": "c108beff-5b6e-4502-9add-a11da2216bf6"
      },
      "execution_count": 24,
      "outputs": [
        {
          "output_type": "stream",
          "name": "stdout",
          "text": [
            "Atleast one number has boolean value as False\n"
          ]
        }
      ]
    },
    {
      "cell_type": "code",
      "source": [
        "#Q9. Write a Python program to convert user input from string to integer, float, and boolean types.\n",
        "'''\n",
        "answer\n",
        "'''\n",
        "\n",
        "#string to integer\n",
        "\n",
        "a=\"2\"\n",
        "print(type(a))\n",
        "print(type(int(a)))\n",
        "\n"
      ],
      "metadata": {
        "colab": {
          "base_uri": "https://localhost:8080/"
        },
        "id": "hZefff0PGuwj",
        "outputId": "18cba46f-7184-4ffb-8223-561f939e4370"
      },
      "execution_count": 25,
      "outputs": [
        {
          "output_type": "stream",
          "name": "stdout",
          "text": [
            "<class 'str'>\n",
            "<class 'int'>\n"
          ]
        }
      ]
    },
    {
      "cell_type": "code",
      "source": [
        "#string to float\n",
        "\n",
        "a=\"2\"\n",
        "print(type(a))\n",
        "print(float(a))"
      ],
      "metadata": {
        "colab": {
          "base_uri": "https://localhost:8080/"
        },
        "id": "h7l0umYwHdP8",
        "outputId": "cca24de1-748d-40f3-ad9c-8332b36bb56a"
      },
      "execution_count": 26,
      "outputs": [
        {
          "output_type": "stream",
          "name": "stdout",
          "text": [
            "<class 'str'>\n",
            "2.0\n"
          ]
        }
      ]
    },
    {
      "cell_type": "code",
      "source": [
        "#string to boolean\n",
        "\n",
        "a=\"2\"\n",
        "print(type(a))\n",
        "print(bool(a))\n"
      ],
      "metadata": {
        "colab": {
          "base_uri": "https://localhost:8080/"
        },
        "id": "HPuvWoH6H8PG",
        "outputId": "964c5a26-198d-424e-c8c4-b6ee240defb9"
      },
      "execution_count": 27,
      "outputs": [
        {
          "output_type": "stream",
          "name": "stdout",
          "text": [
            "<class 'str'>\n",
            "True\n"
          ]
        }
      ]
    },
    {
      "cell_type": "code",
      "source": [
        "#Q10. Write code to demonstrate type casting with list elements.\n",
        "'''\n",
        "answer\n",
        "'''\n",
        "\n",
        "a=[\"2\",1,\"True\",\"aditi\", 2.0]\n",
        "a[1]=\"fish\"\n",
        "print(a)\n",
        "#changing the a(1)=1 (int) to a(1)= \"fish\" (string)!!\n",
        "\n",
        "\n",
        "\n",
        "\n",
        "\n",
        "\n"
      ],
      "metadata": {
        "colab": {
          "base_uri": "https://localhost:8080/"
        },
        "id": "tO4ttQ2rIOV9",
        "outputId": "96dd9572-f63c-433c-9c6d-07f50f0d38ce"
      },
      "execution_count": 32,
      "outputs": [
        {
          "output_type": "stream",
          "name": "stdout",
          "text": [
            "['2', 'fish', 'True', 'aditi', 2.0]\n"
          ]
        }
      ]
    },
    {
      "cell_type": "code",
      "source": [
        "#Q11. Write a program that checks if a number is positive, negative, or zero.\n",
        "'''\n",
        "answer\n",
        "'''\n",
        "\n",
        "a=-4\n",
        "if a>0:\n",
        "  print(\"the number is positive\")\n",
        "elif a<0:\n",
        "  print(\"the number is negative\")\n",
        "else:\n",
        "  print(\"the number is zero\")\n",
        "\n",
        ""
      ],
      "metadata": {
        "colab": {
          "base_uri": "https://localhost:8080/"
        },
        "id": "iSIgd9vfLNK_",
        "outputId": "e6d8d70a-c148-4090-9b7b-3462294312a2"
      },
      "execution_count": 35,
      "outputs": [
        {
          "output_type": "stream",
          "name": "stdout",
          "text": [
            "the number is negative\n"
          ]
        }
      ]
    },
    {
      "cell_type": "code",
      "source": [
        "#Q12.  Write a for loop to print numbers from 1 to 10.\n",
        "'''\n",
        "answer\n",
        "'''\n",
        "\n",
        "for i in range(1,11):\n",
        "  print(i)\n",
        "\n"
      ],
      "metadata": {
        "colab": {
          "base_uri": "https://localhost:8080/"
        },
        "id": "cTf62RLMOYz3",
        "outputId": "cf16bd0e-bfe8-45a2-b213-b72ccbbf2655"
      },
      "execution_count": 37,
      "outputs": [
        {
          "output_type": "stream",
          "name": "stdout",
          "text": [
            "1\n",
            "2\n",
            "3\n",
            "4\n",
            "5\n",
            "6\n",
            "7\n",
            "8\n",
            "9\n",
            "10\n"
          ]
        }
      ]
    },
    {
      "cell_type": "code",
      "source": [
        "from ast import Num\n",
        "#Q13. Write a Python program to find the sum of all even numbers between 1 and 50.\n",
        "'''\n",
        "answer\n",
        "'''\n",
        "\n",
        "a=0\n",
        "\n",
        "for i in range (1,50):\n",
        "  if i%2==0:\n",
        "    a=+i\n",
        "    print(a)\n"
      ],
      "metadata": {
        "colab": {
          "base_uri": "https://localhost:8080/"
        },
        "id": "A7NYSjo7PYHF",
        "outputId": "18423d67-3fb7-49fa-807c-32f10f8135c9"
      },
      "execution_count": 42,
      "outputs": [
        {
          "output_type": "stream",
          "name": "stdout",
          "text": [
            "2\n",
            "4\n",
            "6\n",
            "8\n",
            "10\n",
            "12\n",
            "14\n",
            "16\n",
            "18\n",
            "20\n",
            "22\n",
            "24\n",
            "26\n",
            "28\n",
            "30\n",
            "32\n",
            "34\n",
            "36\n",
            "38\n",
            "40\n",
            "42\n",
            "44\n",
            "46\n",
            "48\n"
          ]
        }
      ]
    },
    {
      "cell_type": "code",
      "source": [
        "#Q14. Write a program to reverse a string using a while loop.\n",
        "'''\n",
        "answer\n",
        "'''\n",
        "\n",
        "original_string = \"Hello, World!\"\n",
        "reversed_string = ''\n",
        "index = len(original_string) - 1\n",
        "\n",
        "while index >= 0:\n",
        "  reversed_string += original_string[index]\n",
        "  index -= 1\n",
        "\n",
        "print(\"Original String:\", original_string)\n",
        "print(\"Reversed String:\", reversed_string)\n",
        "\n",
        "\n",
        "\n",
        "\n",
        "\n"
      ],
      "metadata": {
        "colab": {
          "base_uri": "https://localhost:8080/"
        },
        "id": "Tan3QpKRRIVg",
        "outputId": "0b2f2f6e-6233-4df7-f98d-884ad4fd2bea"
      },
      "execution_count": 60,
      "outputs": [
        {
          "output_type": "stream",
          "name": "stdout",
          "text": [
            "Original String: Hello, World!\n",
            "Reversed String: !dlroW ,olleH\n"
          ]
        }
      ]
    },
    {
      "cell_type": "code",
      "source": [
        "#Q15. Write a Python program to calculate the factorial of a number provided by the user using a while loop.\n",
        "'''\n",
        "answer\n",
        "'''\n",
        "\n",
        "n = int(input(\"Enter any number: \"))\n",
        "f = 1\n",
        "while n >= 1:\n",
        "    f *= n\n",
        "    n -= 1\n",
        "print(\"Factorial is\", f)\n"
      ],
      "metadata": {
        "colab": {
          "base_uri": "https://localhost:8080/"
        },
        "id": "PsQ76rNKTesf",
        "outputId": "2722f768-bd8a-4e16-a90a-5e5dfe6d185f"
      },
      "execution_count": 62,
      "outputs": [
        {
          "output_type": "stream",
          "name": "stdout",
          "text": [
            "Enter any number: 4\n",
            "Factorial is 24\n"
          ]
        }
      ]
    },
    {
      "cell_type": "code",
      "source": [],
      "metadata": {
        "id": "az3SxyAUbW3C"
      },
      "execution_count": null,
      "outputs": []
    }
  ]
}